{
  "nbformat": 4,
  "nbformat_minor": 0,
  "metadata": {
    "colab": {
      "name": "train.ipynb",
      "provenance": [],
      "include_colab_link": true
    },
    "kernelspec": {
      "name": "python3",
      "display_name": "Python 3"
    },
    "language_info": {
      "name": "python"
    }
  },
  "cells": [
    {
      "cell_type": "markdown",
      "metadata": {
        "id": "view-in-github",
        "colab_type": "text"
      },
      "source": [
        "<a href=\"https://colab.research.google.com/github/alirezaght/bitcoin-price-prediction/blob/main/train.ipynb\" target=\"_parent\"><img src=\"https://colab.research.google.com/assets/colab-badge.svg\" alt=\"Open In Colab\"/></a>"
      ]
    },
    {
      "cell_type": "markdown",
      "metadata": {
        "id": "oTizkxhGhQUO"
      },
      "source": [
        "## Download historical data"
      ]
    },
    {
      "cell_type": "markdown",
      "source": [
        "I'm downloading btc price from https://www.cryptodatadownload.com/cdd/Bitstamp_BTCUSD_d.csv\n",
        "\n",
        "and eth price from https://www.cryptodatadownload.com/cdd/Bitstamp_ETHUSD_d.csv\n",
        "\n",
        "and gold price from https://www.nasdaq.com/market-activity/commodities/gc:cmx/historical"
      ],
      "metadata": {
        "id": "f3rVWvfqxvru"
      }
    },
    {
      "cell_type": "code",
      "metadata": {
        "colab": {
          "base_uri": "https://localhost:8080/"
        },
        "id": "woma8RK6fTAu",
        "outputId": "abbbe7a8-4ab9-442c-822a-e306442036eb"
      },
      "source": [
        "!gdown 11IppFUtMJ6CSs4AAc_mAz8DpIrESY03H\n",
        "!gdown 1Vx3NGEQNssg03QXXlIjtFDjMC_8Vm9Hr\n",
        "!gdown 1Ih-kXFor9L3YSQYJPdh7XRnuqbPt34Hv"
      ],
      "execution_count": 3,
      "outputs": [
        {
          "output_type": "stream",
          "name": "stdout",
          "text": [
            "Downloading...\n",
            "From: https://drive.google.com/uc?id=11IppFUtMJ6CSs4AAc_mAz8DpIrESY03H\n",
            "To: /content/gold-price.csv\n",
            "100% 116k/116k [00:00<00:00, 78.1MB/s]\n",
            "Downloading...\n",
            "From: https://drive.google.com/uc?id=1Vx3NGEQNssg03QXXlIjtFDjMC_8Vm9Hr\n",
            "To: /content/btc-price.csv\n",
            "100% 285k/285k [00:00<00:00, 92.7MB/s]\n",
            "Downloading...\n",
            "From: https://drive.google.com/uc?id=1Ih-kXFor9L3YSQYJPdh7XRnuqbPt34Hv\n",
            "To: /content/eth-price.csv\n",
            "100% 186k/186k [00:00<00:00, 87.5MB/s]\n"
          ]
        }
      ]
    },
    {
      "cell_type": "markdown",
      "metadata": {
        "id": "FngpvB2YhpdN"
      },
      "source": [
        "# Preprocess *data*"
      ]
    },
    {
      "cell_type": "code",
      "metadata": {
        "id": "twJoe2OJihM9",
        "colab": {
          "base_uri": "https://localhost:8080/"
        },
        "outputId": "b3cf9f1f-8612-48ec-bb1b-a47d3ce8aefb"
      },
      "source": [
        "from tensorflow.python.ops.ragged.row_partition import np\n",
        "from functools import reduce \n",
        "import pandas as pd\n",
        "from datetime import datetime\n",
        "\n",
        "gold_csv = pd.read_csv('gold-price.csv')\n",
        "btc_csv = pd.read_csv('btc-price.csv')\n",
        "eth_csv = pd.read_csv('eth-price.csv')\n",
        "\n",
        "if len(btc_csv) != len(eth_csv):\n",
        "  print(\"WARNING. Length are different!\")\n",
        "\n",
        "\n",
        "\n",
        "data = []\n",
        "\n",
        "index = 1\n",
        "for i in range(0, len(gold_csv)):\n",
        "  if i >= len(btc_csv) or i >= len(eth_csv):\n",
        "    break\n",
        "  gold_time = datetime.strptime(gold_csv.iloc[i, 0], \"%m/%d/%Y\").timestamp()\n",
        "  gold_price = float(gold_csv.iloc[i, 3]) # open price  \n",
        "  while True: \n",
        "    if index >= len(btc_csv) or index >= len(eth_csv):\n",
        "      break   \n",
        "    btc_time = float(btc_csv.iloc[index].name[0])\n",
        "    if btc_time < gold_time:      \n",
        "      break   \n",
        "    btc_price = float(btc_csv.iloc[index].name[3]) # open price    \n",
        "    eth_price = float(eth_csv.iloc[index].name[3]) # open price\n",
        "    index += 1\n",
        "    data.append([btc_price, eth_price, gold_price])\n",
        "data = np.array(data)\n"
      ],
      "execution_count": 134,
      "outputs": [
        {
          "output_type": "stream",
          "name": "stdout",
          "text": [
            "WARNING. Length are different!\n"
          ]
        }
      ]
    },
    {
      "cell_type": "markdown",
      "source": [
        "# Scaling"
      ],
      "metadata": {
        "id": "gNyx0sxnAOa7"
      }
    },
    {
      "cell_type": "code",
      "source": [
        "from sklearn.preprocessing import MinMaxScaler\n",
        "scaler = MinMaxScaler()\n",
        "data = scaler.fit_transform(data)\n",
        "\n",
        "x_train = []\n",
        "y_train = []\n",
        "for i in range(90, len(data)):\n",
        "  x_train.append(np.reshape(data[i - 90: i], (1, 270)))\n",
        "  y_train.append(data[i][0])\n",
        "\n",
        "\n",
        "x_train = np.reshape(x_train, (len(x_train), 90, 3))\n",
        "y_train = np.reshape(y_train, (len(y_train)))\n"
      ],
      "metadata": {
        "id": "UyVhr_olAYPy"
      },
      "execution_count": 135,
      "outputs": []
    },
    {
      "cell_type": "markdown",
      "metadata": {
        "id": "Xx70byQ7vbEL"
      },
      "source": [
        "# Build Model and Train"
      ]
    },
    {
      "cell_type": "code",
      "metadata": {
        "colab": {
          "base_uri": "https://localhost:8080/"
        },
        "id": "awcTphlmvfC3",
        "outputId": "6aa2a80c-bca0-4ea1-d6a6-89b4328ae33b"
      },
      "source": [
        "from tensorflow.keras import layers\n",
        "from tensorflow import keras\n",
        "\n",
        "\n",
        "model = keras.Sequential()\n",
        "\n",
        "model.add(layers.LSTM(50, return_sequences=True, input_shape=(x_train.shape[1], 3)))\n",
        "model.add(layers.Dropout(0.2))\n",
        "\n",
        "model.add(layers.LSTM(50, return_sequences=True))\n",
        "model.add(layers.Dropout(0.2))\n",
        "\n",
        "model.add(layers.LSTM(50, return_sequences=True))\n",
        "model.add(layers.Dropout(0.2))\n",
        "\n",
        "model.add(layers.LSTM(50))\n",
        "model.add(layers.Dropout(0.2))\n",
        "\n",
        "model.add(layers.Dense(units = 1))\n",
        "\n",
        "model.compile(optimizer=\"adam\", loss=\"mse\")\n",
        "model.fit(x_train, y_train, epochs=30, batch_size=32)\n",
        "model.summary()"
      ],
      "execution_count": 136,
      "outputs": [
        {
          "output_type": "stream",
          "name": "stdout",
          "text": [
            "Epoch 1/30\n",
            "55/55 [==============================] - 16s 164ms/step - loss: 0.0122\n",
            "Epoch 2/30\n",
            "55/55 [==============================] - 9s 161ms/step - loss: 0.0051\n",
            "Epoch 3/30\n",
            "55/55 [==============================] - 9s 164ms/step - loss: 0.0039\n",
            "Epoch 4/30\n",
            "55/55 [==============================] - 11s 194ms/step - loss: 0.0036\n",
            "Epoch 5/30\n",
            "55/55 [==============================] - 13s 230ms/step - loss: 0.0040\n",
            "Epoch 6/30\n",
            "55/55 [==============================] - 11s 202ms/step - loss: 0.0035\n",
            "Epoch 7/30\n",
            "55/55 [==============================] - 12s 218ms/step - loss: 0.0039\n",
            "Epoch 8/30\n",
            "55/55 [==============================] - 10s 191ms/step - loss: 0.0030\n",
            "Epoch 9/30\n",
            "55/55 [==============================] - 10s 188ms/step - loss: 0.0034\n",
            "Epoch 10/30\n",
            "55/55 [==============================] - 11s 206ms/step - loss: 0.0040\n",
            "Epoch 11/30\n",
            "55/55 [==============================] - 11s 192ms/step - loss: 0.0028\n",
            "Epoch 12/30\n",
            "55/55 [==============================] - 11s 197ms/step - loss: 0.0029\n",
            "Epoch 13/30\n",
            "55/55 [==============================] - 11s 199ms/step - loss: 0.0027\n",
            "Epoch 14/30\n",
            "55/55 [==============================] - 11s 202ms/step - loss: 0.0026\n",
            "Epoch 15/30\n",
            "55/55 [==============================] - 11s 197ms/step - loss: 0.0024\n",
            "Epoch 16/30\n",
            "55/55 [==============================] - 11s 197ms/step - loss: 0.0023\n",
            "Epoch 17/30\n",
            "55/55 [==============================] - 11s 196ms/step - loss: 0.0027\n",
            "Epoch 18/30\n",
            "55/55 [==============================] - 11s 193ms/step - loss: 0.0025\n",
            "Epoch 19/30\n",
            "55/55 [==============================] - 11s 203ms/step - loss: 0.0021\n",
            "Epoch 20/30\n",
            "55/55 [==============================] - 11s 191ms/step - loss: 0.0022\n",
            "Epoch 21/30\n",
            "55/55 [==============================] - 11s 192ms/step - loss: 0.0020\n",
            "Epoch 22/30\n",
            "55/55 [==============================] - 11s 198ms/step - loss: 0.0019\n",
            "Epoch 23/30\n",
            "55/55 [==============================] - 12s 216ms/step - loss: 0.0020\n",
            "Epoch 24/30\n",
            "55/55 [==============================] - 11s 198ms/step - loss: 0.0018\n",
            "Epoch 25/30\n",
            "55/55 [==============================] - 12s 217ms/step - loss: 0.0019\n",
            "Epoch 26/30\n",
            "55/55 [==============================] - 11s 198ms/step - loss: 0.0018\n",
            "Epoch 27/30\n",
            "55/55 [==============================] - 11s 200ms/step - loss: 0.0018\n",
            "Epoch 28/30\n",
            "55/55 [==============================] - 11s 198ms/step - loss: 0.0019\n",
            "Epoch 29/30\n",
            "55/55 [==============================] - 11s 200ms/step - loss: 0.0021\n",
            "Epoch 30/30\n",
            "55/55 [==============================] - 11s 194ms/step - loss: 0.0019\n",
            "Model: \"sequential_4\"\n",
            "_________________________________________________________________\n",
            " Layer (type)                Output Shape              Param #   \n",
            "=================================================================\n",
            " lstm_16 (LSTM)              (None, 90, 50)            10800     \n",
            "                                                                 \n",
            " dropout_16 (Dropout)        (None, 90, 50)            0         \n",
            "                                                                 \n",
            " lstm_17 (LSTM)              (None, 90, 50)            20200     \n",
            "                                                                 \n",
            " dropout_17 (Dropout)        (None, 90, 50)            0         \n",
            "                                                                 \n",
            " lstm_18 (LSTM)              (None, 90, 50)            20200     \n",
            "                                                                 \n",
            " dropout_18 (Dropout)        (None, 90, 50)            0         \n",
            "                                                                 \n",
            " lstm_19 (LSTM)              (None, 50)                20200     \n",
            "                                                                 \n",
            " dropout_19 (Dropout)        (None, 50)                0         \n",
            "                                                                 \n",
            " dense_4 (Dense)             (None, 1)                 51        \n",
            "                                                                 \n",
            "=================================================================\n",
            "Total params: 71,451\n",
            "Trainable params: 71,451\n",
            "Non-trainable params: 0\n",
            "_________________________________________________________________\n"
          ]
        }
      ]
    },
    {
      "cell_type": "markdown",
      "metadata": {
        "id": "RZEHExlI9RH4"
      },
      "source": [
        "# Predict"
      ]
    },
    {
      "cell_type": "code",
      "metadata": {
        "colab": {
          "base_uri": "https://localhost:8080/",
          "height": 353
        },
        "id": "S483Ugmt9UUy",
        "outputId": "49b90978-8821-405f-cca4-9fceeba84909"
      },
      "source": [
        "import matplotlib.pyplot as plt\n",
        "\n",
        "x = np.array([])\n",
        "x = np.append(x, np.reshape(data[len(data) - 90: len(data)], (1, 270)))\n",
        "x = np.reshape(x, (1, 90, 3))\n",
        "res_array = np.array([])\n",
        "y_array = np.array([])\n",
        "for i in range(1, 2):\n",
        "  res = model.predict(x)  \n",
        "  y_array = np.append(y_array, scaler.inverse_transform(np.reshape([res[0], data[len(data) - 1][1] , data[len(data) - 1][2]], (1, 3)))[0][0])\n",
        "  res_array = np.append(res_array, res[0])\n",
        "  res_array = np.append(res_array, data[len(data) - 1][1:])    \n",
        "  x = np.array([])\n",
        "  x = np.append(x, np.reshape(np.append(data[len(data) - 90 + i: len(data)], res_array), (1, 270)))\n",
        "  x = np.reshape(x, (1, 90, 3))\n",
        "\n",
        "\n",
        "plt.plot(y_array, color='green')\n",
        "print((y_array[len(y_array) - 1] - y_array[0])/y_array[0])"
      ],
      "execution_count": 157,
      "outputs": [
        {
          "output_type": "stream",
          "name": "stdout",
          "text": [
            "1/1 [==============================] - 0s 124ms/step\n",
            "0.0\n"
          ]
        },
        {
          "output_type": "stream",
          "name": "stderr",
          "text": [
            "/usr/local/lib/python3.7/dist-packages/numpy/core/fromnumeric.py:43: VisibleDeprecationWarning: Creating an ndarray from ragged nested sequences (which is a list-or-tuple of lists-or-tuples-or ndarrays with different lengths or shapes) is deprecated. If you meant to do this, you must specify 'dtype=object' when creating the ndarray.\n",
            "  result = getattr(asarray(obj), method)(*args, **kwds)\n"
          ]
        },
        {
          "output_type": "display_data",
          "data": {
            "text/plain": [
              "<Figure size 432x288 with 1 Axes>"
            ],
            "image/png": "[encoded data removed]"
          },
          "metadata": {
            "needs_background": "light"
          }
        }
      ]
    },
    {
      "cell_type": "code",
      "source": [],
      "metadata": {
        "id": "8A1VXLp5NRRq"
      },
      "execution_count": null,
      "outputs": []
    }
  ]
}