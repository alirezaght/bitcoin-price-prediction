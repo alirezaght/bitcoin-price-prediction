{
  "nbformat": 4,
  "nbformat_minor": 0,
  "metadata": {
    "colab": {
      "name": "train.ipynb",
      "provenance": [],
      "include_colab_link": true
    },
    "kernelspec": {
      "name": "python3",
      "display_name": "Python 3"
    },
    "language_info": {
      "name": "python"
    }
  },
  "cells": [
    {
      "cell_type": "markdown",
      "metadata": {
        "id": "view-in-github",
        "colab_type": "text"
      },
      "source": [
        "<a href=\"https://colab.research.google.com/github/alirezaght/bitcoin-price-prediction/blob/main/train.ipynb\" target=\"_parent\"><img src=\"https://colab.research.google.com/assets/colab-badge.svg\" alt=\"Open In Colab\"/></a>"
      ]
    },
    {
      "cell_type": "markdown",
      "metadata": {
        "id": "oTizkxhGhQUO"
      },
      "source": [
        "## Download historical data"
      ]
    },
    {
      "cell_type": "markdown",
      "source": [
        "I'm downloading btc price from https://www.cryptodatadownload.com/cdd/Bitstamp_BTCUSD_d.csv\n",
        "\n",
        "and eth price from https://www.cryptodatadownload.com/cdd/Bitstamp_ETHUSD_d.csv\n",
        "\n",
        "and gold price from https://www.nasdaq.com/market-activity/commodities/gc:cmx/historical\n",
        "\n",
        "and oil price from https://www.nasdaq.com/market-activity/commodities/cl:nmx/historical"
      ],
      "metadata": {
        "id": "f3rVWvfqxvru"
      }
    },
    {
      "cell_type": "code",
      "metadata": {
        "colab": {
          "base_uri": "https://localhost:8080/"
        },
        "id": "woma8RK6fTAu",
        "outputId": "55313ec3-d778-43f3-e0fe-308e73f2d913"
      },
      "source": [
        "!gdown 11IppFUtMJ6CSs4AAc_mAz8DpIrESY03H\n",
        "!gdown 1Vx3NGEQNssg03QXXlIjtFDjMC_8Vm9Hr\n",
        "!gdown 1Ih-kXFor9L3YSQYJPdh7XRnuqbPt34Hv\n",
        "!gdown 1CucFfrWKJJGngd8PaZXv1ygnFpNnyeJl"
      ],
      "execution_count": 2,
      "outputs": [
        {
          "output_type": "stream",
          "name": "stdout",
          "text": [
            "Downloading...\n",
            "From: https://drive.google.com/uc?id=11IppFUtMJ6CSs4AAc_mAz8DpIrESY03H\n",
            "To: /content/gold-price.csv\n",
            "100% 116k/116k [00:00<00:00, 28.9MB/s]\n",
            "Downloading...\n",
            "From: https://drive.google.com/uc?id=1Vx3NGEQNssg03QXXlIjtFDjMC_8Vm9Hr\n",
            "To: /content/btc-price.csv\n",
            "100% 285k/285k [00:00<00:00, 50.6MB/s]\n",
            "Downloading...\n",
            "From: https://drive.google.com/uc?id=1Ih-kXFor9L3YSQYJPdh7XRnuqbPt34Hv\n",
            "To: /content/eth-price.csv\n",
            "100% 186k/186k [00:00<00:00, 28.3MB/s]\n",
            "Downloading...\n",
            "From: https://drive.google.com/uc?id=1CucFfrWKJJGngd8PaZXv1ygnFpNnyeJl\n",
            "To: /content/oil-price.csv\n",
            "100% 109k/109k [00:00<00:00, 25.2MB/s]\n"
          ]
        }
      ]
    },
    {
      "cell_type": "markdown",
      "metadata": {
        "id": "FngpvB2YhpdN"
      },
      "source": [
        "# Preprocess *data*"
      ]
    },
    {
      "cell_type": "code",
      "metadata": {
        "id": "twJoe2OJihM9",
        "colab": {
          "base_uri": "https://localhost:8080/"
        },
        "outputId": "ecaaf92c-9a06-420f-9417-cbfdfbd63c2a"
      },
      "source": [
        "from tensorflow.python.ops.ragged.row_partition import np\n",
        "from functools import reduce \n",
        "import pandas as pd\n",
        "from datetime import datetime\n",
        "import math\n",
        "\n",
        "gold_csv = pd.read_csv('gold-price.csv', keep_default_na=False)\n",
        "btc_csv = pd.read_csv('btc-price.csv', keep_default_na=False)\n",
        "eth_csv = pd.read_csv('eth-price.csv', keep_default_na=False)\n",
        "oil_csv = pd.read_csv('oil-price.csv', keep_default_na=False)\n",
        "\n",
        "\n",
        "\n",
        "feed_days = 90\n",
        "indicators = 5\n",
        "evaluate_days = 30\n",
        "\n",
        "oils = {}\n",
        "# oils_vols = {}\n",
        "\n",
        "for i in range(0, len(oil_csv)):  \n",
        "  # if oil_csv.iloc[i, 2] == \"N/A\":\n",
        "    # continue\n",
        "  oil_time = datetime.strptime(oil_csv.iloc[i, 0], \"%m/%d/%Y\").timestamp()\n",
        "  oils[oil_time] = float(oil_csv.iloc[i, 3])  \n",
        "  # oils_vols[oil_time] = float(oil_csv.iloc[i, 2])\n",
        "\n",
        "original = []\n",
        "\n",
        "index = 1\n",
        "for i in range(0, len(gold_csv)):  \n",
        "  if i >= len(btc_csv) or i >= len(eth_csv):\n",
        "    break\n",
        "  gold_time = datetime.strptime(gold_csv.iloc[i, 0], \"%m/%d/%Y\").timestamp()\n",
        "  if gold_time not in oils:\n",
        "    continue\n",
        "  \n",
        "  oil_price = oils[gold_time]\n",
        "  # oil_vol = oils_vols[gold_time]\n",
        "  gold_price = float(gold_csv.iloc[i, 3]) # open price  \n",
        "  # if gold_csv.iloc[i, 2] == \"N/A\":\n",
        "    # continue\n",
        "  # gold_vol = float(gold_csv.iloc[i, 2])   \n",
        "  while True: \n",
        "    if index >= len(btc_csv) or index >= len(eth_csv):\n",
        "      break   \n",
        "    btc_time = float(btc_csv.iloc[index].name[0])\n",
        "    if btc_time < gold_time:      \n",
        "      break   \n",
        "    btc_price = float(btc_csv.iloc[index].name[3]) # open price        \n",
        "    btc_vol = float(btc_csv.iloc[index][0]) \n",
        "    eth_price = float(eth_csv.iloc[index].name[3]) # open price    \n",
        "    # eth_vol = float(eth_csv.iloc[index][0]) \n",
        "    index += 1\n",
        "    original.append([btc_price, btc_vol, gold_price, eth_price, oil_price])\n",
        "original = np.array(original[::-1])\n",
        "\n",
        "print(\"Length of btc data: \", len(btc_csv))\n",
        "print(\"Length of eth data: \", len(eth_csv))\n",
        "print(\"Length of oil data: \", len(oil_csv))\n",
        "print(\"Length of gold data: \", len(gold_csv))\n",
        "print(\"Length of data: \", len(original))\n"
      ],
      "execution_count": 3,
      "outputs": [
        {
          "output_type": "stream",
          "name": "stdout",
          "text": [
            "Length of btc data:  2926\n",
            "Length of eth data:  1849\n",
            "Length of oil data:  2547\n",
            "Length of gold data:  2547\n",
            "Length of data:  1848\n"
          ]
        }
      ]
    },
    {
      "cell_type": "markdown",
      "source": [
        "# Scaling"
      ],
      "metadata": {
        "id": "gNyx0sxnAOa7"
      }
    },
    {
      "cell_type": "code",
      "source": [
        "from sklearn.preprocessing import MinMaxScaler\n",
        "scaler = MinMaxScaler()\n",
        "data = scaler.fit_transform(original)\n",
        "\n",
        "x_train = []\n",
        "y_train = []\n",
        "for i in range(feed_days, len(data)):\n",
        "  x_train.append(np.reshape(data[i - feed_days: i], (1, feed_days * indicators)))\n",
        "  y_train.append(data[i][0])\n",
        "\n",
        "\n",
        "x_train = np.reshape(x_train, (len(x_train), feed_days, indicators))\n",
        "y_train = np.reshape(y_train, (len(y_train)))\n"
      ],
      "metadata": {
        "id": "UyVhr_olAYPy"
      },
      "execution_count": 4,
      "outputs": []
    },
    {
      "cell_type": "markdown",
      "metadata": {
        "id": "Xx70byQ7vbEL"
      },
      "source": [
        "# Build Model and Train"
      ]
    },
    {
      "cell_type": "code",
      "source": [
        "from tensorflow.keras import layers\n",
        "from tensorflow import keras\n",
        "import tensorflow as tf\n",
        "from keras import backend as K"
      ],
      "metadata": {
        "id": "vpUY829iDqbi"
      },
      "execution_count": 5,
      "outputs": []
    },
    {
      "cell_type": "code",
      "source": [
        "print(tf.__version__)"
      ],
      "metadata": {
        "id": "nNh8mYgaIuAw",
        "outputId": "d51787ce-85ea-49fe-9844-ab3c89c4f1f7",
        "colab": {
          "base_uri": "https://localhost:8080/"
        }
      },
      "execution_count": 6,
      "outputs": [
        {
          "output_type": "stream",
          "name": "stdout",
          "text": [
            "2.9.2\n"
          ]
        }
      ]
    },
    {
      "cell_type": "code",
      "source": [
        "batch_size = 32"
      ],
      "metadata": {
        "id": "q6VCc62ICCKf"
      },
      "execution_count": 7,
      "outputs": []
    },
    {
      "cell_type": "code",
      "metadata": {
        "colab": {
          "base_uri": "https://localhost:8080/"
        },
        "id": "awcTphlmvfC3",
        "outputId": "7c1a7cfb-fb0f-4c37-dc07-712a788d04d4"
      },
      "source": [
        "model = keras.Sequential()\n",
        "\n",
        "model.add(layers.LSTM(128, return_sequences=True, input_shape=(x_train.shape[1], x_train.shape[2])))\n",
        "model.add(layers.Dropout(0.2))\n",
        "\n",
        "model.add(layers.LSTM(128, return_sequences=True))\n",
        "model.add(layers.Dropout(0.2))\n",
        "\n",
        "model.add(layers.LSTM(64, return_sequences=True))\n",
        "model.add(layers.Dropout(0.2))\n",
        "\n",
        "model.add(layers.LSTM(64, return_sequences=True))\n",
        "model.add(layers.Dropout(0.2))\n",
        "\n",
        "model.add(layers.LSTM(32, return_sequences=True))\n",
        "model.add(layers.Dropout(0.2))\n",
        "\n",
        "model.add(layers.LSTM(32))\n",
        "model.add(layers.Dropout(0.2))\n",
        "\n",
        "model.add(layers.Dense(units = 32, activation=\"relu\"))\n",
        "\n",
        "model.add(layers.Dense(units = 1))\n",
        "model.compile(optimizer=\"adam\", loss=\"mse\")\n",
        "model.fit(x_train[0: len(x_train) - evaluate_days], y_train[0: len(y_train) - evaluate_days], epochs=30, batch_size=batch_size)"
      ],
      "execution_count": 10,
      "outputs": [
        {
          "output_type": "stream",
          "name": "stdout",
          "text": [
            "Epoch 1/30\n",
            "54/54 [==============================] - 32s 425ms/step - loss: 0.0155\n",
            "Epoch 2/30\n",
            "54/54 [==============================] - 25s 463ms/step - loss: 0.0061\n",
            "Epoch 3/30\n",
            "54/54 [==============================] - 23s 420ms/step - loss: 0.0066\n",
            "Epoch 4/30\n",
            "54/54 [==============================] - 24s 437ms/step - loss: 0.0051\n",
            "Epoch 5/30\n",
            "54/54 [==============================] - 23s 426ms/step - loss: 0.0039\n",
            "Epoch 6/30\n",
            "54/54 [==============================] - 23s 423ms/step - loss: 0.0039\n",
            "Epoch 7/30\n",
            "54/54 [==============================] - 23s 421ms/step - loss: 0.0034\n",
            "Epoch 8/30\n",
            "54/54 [==============================] - 23s 421ms/step - loss: 0.0033\n",
            "Epoch 9/30\n",
            "54/54 [==============================] - 23s 421ms/step - loss: 0.0033\n",
            "Epoch 10/30\n",
            "54/54 [==============================] - 23s 422ms/step - loss: 0.0035\n",
            "Epoch 11/30\n",
            "54/54 [==============================] - 24s 447ms/step - loss: 0.0036\n",
            "Epoch 12/30\n",
            "54/54 [==============================] - 23s 426ms/step - loss: 0.0028\n",
            "Epoch 13/30\n",
            "54/54 [==============================] - 23s 424ms/step - loss: 0.0030\n",
            "Epoch 14/30\n",
            "54/54 [==============================] - 23s 423ms/step - loss: 0.0024\n",
            "Epoch 15/30\n",
            "54/54 [==============================] - 23s 423ms/step - loss: 0.0022\n",
            "Epoch 16/30\n",
            "54/54 [==============================] - 23s 425ms/step - loss: 0.0023\n",
            "Epoch 17/30\n",
            "54/54 [==============================] - 23s 424ms/step - loss: 0.0019\n",
            "Epoch 18/30\n",
            "54/54 [==============================] - 23s 424ms/step - loss: 0.0020\n",
            "Epoch 19/30\n",
            "54/54 [==============================] - 25s 457ms/step - loss: 0.0017\n",
            "Epoch 20/30\n",
            "54/54 [==============================] - 23s 431ms/step - loss: 0.0017\n",
            "Epoch 21/30\n",
            "54/54 [==============================] - 23s 427ms/step - loss: 0.0018\n",
            "Epoch 22/30\n",
            "54/54 [==============================] - 23s 428ms/step - loss: 0.0018\n",
            "Epoch 23/30\n",
            "54/54 [==============================] - 23s 427ms/step - loss: 0.0018\n",
            "Epoch 24/30\n",
            "54/54 [==============================] - 23s 426ms/step - loss: 0.0014\n",
            "Epoch 25/30\n",
            "54/54 [==============================] - 23s 432ms/step - loss: 0.0015\n",
            "Epoch 26/30\n",
            "54/54 [==============================] - 23s 432ms/step - loss: 0.0016\n",
            "Epoch 27/30\n",
            "54/54 [==============================] - 24s 442ms/step - loss: 0.0016\n",
            "Epoch 28/30\n",
            "54/54 [==============================] - 24s 433ms/step - loss: 0.0014\n",
            "Epoch 29/30\n",
            "54/54 [==============================] - 23s 431ms/step - loss: 0.0014\n",
            "Epoch 30/30\n",
            "54/54 [==============================] - 24s 437ms/step - loss: 0.0014\n"
          ]
        },
        {
          "output_type": "execute_result",
          "data": {
            "text/plain": [
              "<keras.callbacks.History at 0x7f8f2d996a00>"
            ]
          },
          "metadata": {},
          "execution_count": 10
        }
      ]
    },
    {
      "cell_type": "markdown",
      "metadata": {
        "id": "RZEHExlI9RH4"
      },
      "source": [
        "# Predict"
      ]
    },
    {
      "cell_type": "code",
      "metadata": {
        "colab": {
          "base_uri": "https://localhost:8080/",
          "height": 1000
        },
        "id": "S483Ugmt9UUy",
        "outputId": "57897a24-e816-4f54-adbf-37e63a0c775e"
      },
      "source": [
        "import matplotlib.pyplot as plt\n",
        "\n",
        "predict_days = 30\n",
        "\n",
        "x = np.array([])\n",
        "x = np.append(x, original[len(original) - feed_days - evaluate_days: len(original) - evaluate_days])\n",
        "x = np.reshape(x, (feed_days, indicators))\n",
        "x = scaler.transform(x)\n",
        "x = np.reshape(x, (1, feed_days, indicators))\n",
        "res_array = np.array([])\n",
        "y_array = np.array([])\n",
        "for i in range(1, predict_days):\n",
        "  res = scaler.inverse_transform(np.reshape(np.array([model.predict(x)[0], 0, 0, 0, 0]), (1, indicators)))\n",
        "  y_array = np.append(y_array, res[0][0])\n",
        "  res_array = np.append(res_array, res[0][0])\n",
        "  res_array = np.append(res_array, original[len(original) - 1 - evaluate_days][1:])\n",
        "  res_array = np.reshape(res_array, (i, indicators))  \n",
        "  x = np.append(original[len(original) - feed_days - evaluate_days + i: len(original) - evaluate_days], res_array, axis = 0)    \n",
        "  x = scaler.transform(x)\n",
        "  x = np.reshape(x, (1, feed_days, indicators))\n",
        "\n",
        "e_array = np.array([])\n",
        "\n",
        "\n",
        "if evaluate_days > 0:\n",
        "  for i in range(0, evaluate_days):\n",
        "    e_array = np.append(e_array, original[len(original) - evaluate_days + i][0])\n",
        "  plt.figure(1).gca().plot(y_array, color=\"green\")\n",
        "  plt.figure(2).gca().plot(e_array, color=\"red\")\n",
        "else:\n",
        "  plt.plot(y_array, color='green')\n",
        "print(\"End Prediction:\", (y_array[len(y_array) - 1] - y_array[0])/y_array[0], y_array[0], y_array[len(y_array) - 1])\n",
        "if evaluate_days > 0:  \n",
        "  print(\"Eval Prediction:\", (e_array[len(e_array) - 1] - e_array[0])/e_array[0], e_array[0], e_array[len(e_array) - 1])\n",
        "print(\"Min:\", (min(y_array) - y_array[0])/y_array[0], min(y_array))\n",
        "if evaluate_days > 0:\n",
        "  print(\"Eval Min:\", (min(e_array) - e_array[0])/e_array[0], min(e_array))  \n",
        "print(\"Max:\", (max(y_array) - y_array[0])/y_array[0], max(y_array))\n",
        "if evaluate_days > 0:\n",
        "  print(\"Eval Max:\", (max(e_array) - e_array[0])/e_array[0], max(e_array))  "
      ],
      "execution_count": 11,
      "outputs": [
        {
          "output_type": "stream",
          "name": "stdout",
          "text": [
            "1/1 [==============================] - 2s 2s/step\n",
            "1/1 [==============================] - 0s 43ms/step\n",
            "1/1 [==============================] - 0s 43ms/step\n"
          ]
        },
        {
          "output_type": "stream",
          "name": "stderr",
          "text": [
            "<ipython-input-11-f0053bfaafef>:13: VisibleDeprecationWarning: Creating an ndarray from ragged nested sequences (which is a list-or-tuple of lists-or-tuples-or ndarrays with different lengths or shapes) is deprecated. If you meant to do this, you must specify 'dtype=object' when creating the ndarray.\n",
            "  res = scaler.inverse_transform(np.reshape(np.array([model.predict(x)[0], 0, 0, 0, 0]), (1, indicators)))\n",
            "<ipython-input-11-f0053bfaafef>:13: VisibleDeprecationWarning: Creating an ndarray from ragged nested sequences (which is a list-or-tuple of lists-or-tuples-or ndarrays with different lengths or shapes) is deprecated. If you meant to do this, you must specify 'dtype=object' when creating the ndarray.\n",
            "  res = scaler.inverse_transform(np.reshape(np.array([model.predict(x)[0], 0, 0, 0, 0]), (1, indicators)))\n",
            "<ipython-input-11-f0053bfaafef>:13: VisibleDeprecationWarning: Creating an ndarray from ragged nested sequences (which is a list-or-tuple of lists-or-tuples-or ndarrays with different lengths or shapes) is deprecated. If you meant to do this, you must specify 'dtype=object' when creating the ndarray.\n",
            "  res = scaler.inverse_transform(np.reshape(np.array([model.predict(x)[0], 0, 0, 0, 0]), (1, indicators)))\n"
          ]
        },
        {
          "output_type": "stream",
          "name": "stdout",
          "text": [
            "1/1 [==============================] - 0s 47ms/step\n",
            "1/1 [==============================] - 0s 42ms/step\n",
            "1/1 [==============================] - 0s 44ms/step\n"
          ]
        },
        {
          "output_type": "stream",
          "name": "stderr",
          "text": [
            "<ipython-input-11-f0053bfaafef>:13: VisibleDeprecationWarning: Creating an ndarray from ragged nested sequences (which is a list-or-tuple of lists-or-tuples-or ndarrays with different lengths or shapes) is deprecated. If you meant to do this, you must specify 'dtype=object' when creating the ndarray.\n",
            "  res = scaler.inverse_transform(np.reshape(np.array([model.predict(x)[0], 0, 0, 0, 0]), (1, indicators)))\n",
            "<ipython-input-11-f0053bfaafef>:13: VisibleDeprecationWarning: Creating an ndarray from ragged nested sequences (which is a list-or-tuple of lists-or-tuples-or ndarrays with different lengths or shapes) is deprecated. If you meant to do this, you must specify 'dtype=object' when creating the ndarray.\n",
            "  res = scaler.inverse_transform(np.reshape(np.array([model.predict(x)[0], 0, 0, 0, 0]), (1, indicators)))\n",
            "<ipython-input-11-f0053bfaafef>:13: VisibleDeprecationWarning: Creating an ndarray from ragged nested sequences (which is a list-or-tuple of lists-or-tuples-or ndarrays with different lengths or shapes) is deprecated. If you meant to do this, you must specify 'dtype=object' when creating the ndarray.\n",
            "  res = scaler.inverse_transform(np.reshape(np.array([model.predict(x)[0], 0, 0, 0, 0]), (1, indicators)))\n"
          ]
        },
        {
          "output_type": "stream",
          "name": "stdout",
          "text": [
            "1/1 [==============================] - 0s 51ms/step\n",
            "1/1 [==============================] - 0s 45ms/step\n",
            "1/1 [==============================] - 0s 44ms/step\n"
          ]
        },
        {
          "output_type": "stream",
          "name": "stderr",
          "text": [
            "<ipython-input-11-f0053bfaafef>:13: VisibleDeprecationWarning: Creating an ndarray from ragged nested sequences (which is a list-or-tuple of lists-or-tuples-or ndarrays with different lengths or shapes) is deprecated. If you meant to do this, you must specify 'dtype=object' when creating the ndarray.\n",
            "  res = scaler.inverse_transform(np.reshape(np.array([model.predict(x)[0], 0, 0, 0, 0]), (1, indicators)))\n",
            "<ipython-input-11-f0053bfaafef>:13: VisibleDeprecationWarning: Creating an ndarray from ragged nested sequences (which is a list-or-tuple of lists-or-tuples-or ndarrays with different lengths or shapes) is deprecated. If you meant to do this, you must specify 'dtype=object' when creating the ndarray.\n",
            "  res = scaler.inverse_transform(np.reshape(np.array([model.predict(x)[0], 0, 0, 0, 0]), (1, indicators)))\n",
            "<ipython-input-11-f0053bfaafef>:13: VisibleDeprecationWarning: Creating an ndarray from ragged nested sequences (which is a list-or-tuple of lists-or-tuples-or ndarrays with different lengths or shapes) is deprecated. If you meant to do this, you must specify 'dtype=object' when creating the ndarray.\n",
            "  res = scaler.inverse_transform(np.reshape(np.array([model.predict(x)[0], 0, 0, 0, 0]), (1, indicators)))\n"
          ]
        },
        {
          "output_type": "stream",
          "name": "stdout",
          "text": [
            "1/1 [==============================] - 0s 48ms/step\n",
            "1/1 [==============================] - 0s 48ms/step\n",
            "1/1 [==============================] - 0s 45ms/step\n"
          ]
        },
        {
          "output_type": "stream",
          "name": "stderr",
          "text": [
            "<ipython-input-11-f0053bfaafef>:13: VisibleDeprecationWarning: Creating an ndarray from ragged nested sequences (which is a list-or-tuple of lists-or-tuples-or ndarrays with different lengths or shapes) is deprecated. If you meant to do this, you must specify 'dtype=object' when creating the ndarray.\n",
            "  res = scaler.inverse_transform(np.reshape(np.array([model.predict(x)[0], 0, 0, 0, 0]), (1, indicators)))\n",
            "<ipython-input-11-f0053bfaafef>:13: VisibleDeprecationWarning: Creating an ndarray from ragged nested sequences (which is a list-or-tuple of lists-or-tuples-or ndarrays with different lengths or shapes) is deprecated. If you meant to do this, you must specify 'dtype=object' when creating the ndarray.\n",
            "  res = scaler.inverse_transform(np.reshape(np.array([model.predict(x)[0], 0, 0, 0, 0]), (1, indicators)))\n",
            "<ipython-input-11-f0053bfaafef>:13: VisibleDeprecationWarning: Creating an ndarray from ragged nested sequences (which is a list-or-tuple of lists-or-tuples-or ndarrays with different lengths or shapes) is deprecated. If you meant to do this, you must specify 'dtype=object' when creating the ndarray.\n",
            "  res = scaler.inverse_transform(np.reshape(np.array([model.predict(x)[0], 0, 0, 0, 0]), (1, indicators)))\n"
          ]
        },
        {
          "output_type": "stream",
          "name": "stdout",
          "text": [
            "1/1 [==============================] - 0s 51ms/step\n",
            "1/1 [==============================] - 0s 43ms/step\n",
            "1/1 [==============================] - 0s 44ms/step\n"
          ]
        },
        {
          "output_type": "stream",
          "name": "stderr",
          "text": [
            "<ipython-input-11-f0053bfaafef>:13: VisibleDeprecationWarning: Creating an ndarray from ragged nested sequences (which is a list-or-tuple of lists-or-tuples-or ndarrays with different lengths or shapes) is deprecated. If you meant to do this, you must specify 'dtype=object' when creating the ndarray.\n",
            "  res = scaler.inverse_transform(np.reshape(np.array([model.predict(x)[0], 0, 0, 0, 0]), (1, indicators)))\n",
            "<ipython-input-11-f0053bfaafef>:13: VisibleDeprecationWarning: Creating an ndarray from ragged nested sequences (which is a list-or-tuple of lists-or-tuples-or ndarrays with different lengths or shapes) is deprecated. If you meant to do this, you must specify 'dtype=object' when creating the ndarray.\n",
            "  res = scaler.inverse_transform(np.reshape(np.array([model.predict(x)[0], 0, 0, 0, 0]), (1, indicators)))\n",
            "<ipython-input-11-f0053bfaafef>:13: VisibleDeprecationWarning: Creating an ndarray from ragged nested sequences (which is a list-or-tuple of lists-or-tuples-or ndarrays with different lengths or shapes) is deprecated. If you meant to do this, you must specify 'dtype=object' when creating the ndarray.\n",
            "  res = scaler.inverse_transform(np.reshape(np.array([model.predict(x)[0], 0, 0, 0, 0]), (1, indicators)))\n"
          ]
        },
        {
          "output_type": "stream",
          "name": "stdout",
          "text": [
            "1/1 [==============================] - 0s 49ms/step\n",
            "1/1 [==============================] - 0s 42ms/step\n",
            "1/1 [==============================] - 0s 43ms/step\n"
          ]
        },
        {
          "output_type": "stream",
          "name": "stderr",
          "text": [
            "<ipython-input-11-f0053bfaafef>:13: VisibleDeprecationWarning: Creating an ndarray from ragged nested sequences (which is a list-or-tuple of lists-or-tuples-or ndarrays with different lengths or shapes) is deprecated. If you meant to do this, you must specify 'dtype=object' when creating the ndarray.\n",
            "  res = scaler.inverse_transform(np.reshape(np.array([model.predict(x)[0], 0, 0, 0, 0]), (1, indicators)))\n",
            "<ipython-input-11-f0053bfaafef>:13: VisibleDeprecationWarning: Creating an ndarray from ragged nested sequences (which is a list-or-tuple of lists-or-tuples-or ndarrays with different lengths or shapes) is deprecated. If you meant to do this, you must specify 'dtype=object' when creating the ndarray.\n",
            "  res = scaler.inverse_transform(np.reshape(np.array([model.predict(x)[0], 0, 0, 0, 0]), (1, indicators)))\n",
            "<ipython-input-11-f0053bfaafef>:13: VisibleDeprecationWarning: Creating an ndarray from ragged nested sequences (which is a list-or-tuple of lists-or-tuples-or ndarrays with different lengths or shapes) is deprecated. If you meant to do this, you must specify 'dtype=object' when creating the ndarray.\n",
            "  res = scaler.inverse_transform(np.reshape(np.array([model.predict(x)[0], 0, 0, 0, 0]), (1, indicators)))\n"
          ]
        },
        {
          "output_type": "stream",
          "name": "stdout",
          "text": [
            "1/1 [==============================] - 0s 48ms/step\n",
            "1/1 [==============================] - 0s 43ms/step\n",
            "1/1 [==============================] - 0s 48ms/step\n"
          ]
        },
        {
          "output_type": "stream",
          "name": "stderr",
          "text": [
            "<ipython-input-11-f0053bfaafef>:13: VisibleDeprecationWarning: Creating an ndarray from ragged nested sequences (which is a list-or-tuple of lists-or-tuples-or ndarrays with different lengths or shapes) is deprecated. If you meant to do this, you must specify 'dtype=object' when creating the ndarray.\n",
            "  res = scaler.inverse_transform(np.reshape(np.array([model.predict(x)[0], 0, 0, 0, 0]), (1, indicators)))\n",
            "<ipython-input-11-f0053bfaafef>:13: VisibleDeprecationWarning: Creating an ndarray from ragged nested sequences (which is a list-or-tuple of lists-or-tuples-or ndarrays with different lengths or shapes) is deprecated. If you meant to do this, you must specify 'dtype=object' when creating the ndarray.\n",
            "  res = scaler.inverse_transform(np.reshape(np.array([model.predict(x)[0], 0, 0, 0, 0]), (1, indicators)))\n",
            "<ipython-input-11-f0053bfaafef>:13: VisibleDeprecationWarning: Creating an ndarray from ragged nested sequences (which is a list-or-tuple of lists-or-tuples-or ndarrays with different lengths or shapes) is deprecated. If you meant to do this, you must specify 'dtype=object' when creating the ndarray.\n",
            "  res = scaler.inverse_transform(np.reshape(np.array([model.predict(x)[0], 0, 0, 0, 0]), (1, indicators)))\n"
          ]
        },
        {
          "output_type": "stream",
          "name": "stdout",
          "text": [
            "1/1 [==============================] - 0s 43ms/step\n",
            "1/1 [==============================] - 0s 55ms/step\n",
            "1/1 [==============================] - 0s 46ms/step\n"
          ]
        },
        {
          "output_type": "stream",
          "name": "stderr",
          "text": [
            "<ipython-input-11-f0053bfaafef>:13: VisibleDeprecationWarning: Creating an ndarray from ragged nested sequences (which is a list-or-tuple of lists-or-tuples-or ndarrays with different lengths or shapes) is deprecated. If you meant to do this, you must specify 'dtype=object' when creating the ndarray.\n",
            "  res = scaler.inverse_transform(np.reshape(np.array([model.predict(x)[0], 0, 0, 0, 0]), (1, indicators)))\n",
            "<ipython-input-11-f0053bfaafef>:13: VisibleDeprecationWarning: Creating an ndarray from ragged nested sequences (which is a list-or-tuple of lists-or-tuples-or ndarrays with different lengths or shapes) is deprecated. If you meant to do this, you must specify 'dtype=object' when creating the ndarray.\n",
            "  res = scaler.inverse_transform(np.reshape(np.array([model.predict(x)[0], 0, 0, 0, 0]), (1, indicators)))\n",
            "<ipython-input-11-f0053bfaafef>:13: VisibleDeprecationWarning: Creating an ndarray from ragged nested sequences (which is a list-or-tuple of lists-or-tuples-or ndarrays with different lengths or shapes) is deprecated. If you meant to do this, you must specify 'dtype=object' when creating the ndarray.\n",
            "  res = scaler.inverse_transform(np.reshape(np.array([model.predict(x)[0], 0, 0, 0, 0]), (1, indicators)))\n"
          ]
        },
        {
          "output_type": "stream",
          "name": "stdout",
          "text": [
            "1/1 [==============================] - 0s 45ms/step\n",
            "1/1 [==============================] - 0s 56ms/step\n",
            "1/1 [==============================] - 0s 46ms/step\n"
          ]
        },
        {
          "output_type": "stream",
          "name": "stderr",
          "text": [
            "<ipython-input-11-f0053bfaafef>:13: VisibleDeprecationWarning: Creating an ndarray from ragged nested sequences (which is a list-or-tuple of lists-or-tuples-or ndarrays with different lengths or shapes) is deprecated. If you meant to do this, you must specify 'dtype=object' when creating the ndarray.\n",
            "  res = scaler.inverse_transform(np.reshape(np.array([model.predict(x)[0], 0, 0, 0, 0]), (1, indicators)))\n",
            "<ipython-input-11-f0053bfaafef>:13: VisibleDeprecationWarning: Creating an ndarray from ragged nested sequences (which is a list-or-tuple of lists-or-tuples-or ndarrays with different lengths or shapes) is deprecated. If you meant to do this, you must specify 'dtype=object' when creating the ndarray.\n",
            "  res = scaler.inverse_transform(np.reshape(np.array([model.predict(x)[0], 0, 0, 0, 0]), (1, indicators)))\n",
            "<ipython-input-11-f0053bfaafef>:13: VisibleDeprecationWarning: Creating an ndarray from ragged nested sequences (which is a list-or-tuple of lists-or-tuples-or ndarrays with different lengths or shapes) is deprecated. If you meant to do this, you must specify 'dtype=object' when creating the ndarray.\n",
            "  res = scaler.inverse_transform(np.reshape(np.array([model.predict(x)[0], 0, 0, 0, 0]), (1, indicators)))\n"
          ]
        },
        {
          "output_type": "stream",
          "name": "stdout",
          "text": [
            "1/1 [==============================] - 0s 51ms/step\n",
            "1/1 [==============================] - 0s 47ms/step\n",
            "End Prediction: -0.16913992566369623 19262.483346257508 16004.428344973327\n",
            "Eval Prediction: -0.19792124139950226 20493.0 16437.0\n",
            "Min: -0.16913992566369623 16004.428344973327\n",
            "Eval Min: -0.23110330356707168 15757.0\n",
            "Max: 0.02128413949149432 19672.46872875184\n",
            "Eval Max: 0.03933050309861904 21299.0\n"
          ]
        },
        {
          "output_type": "stream",
          "name": "stderr",
          "text": [
            "<ipython-input-11-f0053bfaafef>:13: VisibleDeprecationWarning: Creating an ndarray from ragged nested sequences (which is a list-or-tuple of lists-or-tuples-or ndarrays with different lengths or shapes) is deprecated. If you meant to do this, you must specify 'dtype=object' when creating the ndarray.\n",
            "  res = scaler.inverse_transform(np.reshape(np.array([model.predict(x)[0], 0, 0, 0, 0]), (1, indicators)))\n",
            "<ipython-input-11-f0053bfaafef>:13: VisibleDeprecationWarning: Creating an ndarray from ragged nested sequences (which is a list-or-tuple of lists-or-tuples-or ndarrays with different lengths or shapes) is deprecated. If you meant to do this, you must specify 'dtype=object' when creating the ndarray.\n",
            "  res = scaler.inverse_transform(np.reshape(np.array([model.predict(x)[0], 0, 0, 0, 0]), (1, indicators)))\n"
          ]
        },
        {
          "output_type": "display_data",
          "data": {
            "text/plain": [
              "<Figure size 432x288 with 1 Axes>"
            ],
            "image/png": "[encoded data removed]"
          },
          "metadata": {
            "needs_background": "light"
          }
        },
        {
          "output_type": "display_data",
          "data": {
            "text/plain": [
              "<Figure size 432x288 with 1 Axes>"
            ],
            "image/png": "[encoded data removed]"
          },
          "metadata": {
            "needs_background": "light"
          }
        }
      ]
    },
    {
      "cell_type": "code",
      "source": [],
      "metadata": {
        "id": "SoVe0DS7uiE0"
      },
      "execution_count": null,
      "outputs": []
    }
  ]
}