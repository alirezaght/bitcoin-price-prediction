{
  "nbformat": 4,
  "nbformat_minor": 0,
  "metadata": {
    "colab": {
      "name": "train.ipynb",
      "provenance": [],
      "collapsed_sections": [],
      "toc_visible": true,
      "authorship_tag": "ABX9TyPAnkv/qst8e1Dq5fy2W25j",
      "include_colab_link": true
    },
    "kernelspec": {
      "name": "python3",
      "display_name": "Python 3"
    },
    "language_info": {
      "name": "python"
    }
  },
  "cells": [
    {
      "cell_type": "markdown",
      "metadata": {
        "id": "view-in-github",
        "colab_type": "text"
      },
      "source": [
        "<a href=\"https://colab.research.google.com/github/alirezaght/bitcoin-price-prediction/blob/main/train.ipynb\" target=\"_parent\"><img src=\"https://colab.research.google.com/assets/colab-badge.svg\" alt=\"Open In Colab\"/></a>"
      ]
    },
    {
      "cell_type": "markdown",
      "metadata": {
        "id": "oTizkxhGhQUO"
      },
      "source": [
        "## Download historical data"
      ]
    },
    {
      "cell_type": "markdown",
      "metadata": {
        "id": "mAaK5eN7fMmE"
      },
      "source": [
        "First we need to download the latest csv of historical data of bitcoin prices."
      ]
    },
    {
      "cell_type": "code",
      "metadata": {
        "colab": {
          "base_uri": "https://localhost:8080/"
        },
        "id": "woma8RK6fTAu",
        "outputId": "766980b7-52e7-461c-d3f9-b2ef7c16aaf5"
      },
      "source": [
        "import pandas as pd\n",
        "import requests\n",
        "import json\n",
        "\n",
        "def fetch_daily_data(symbol):\n",
        "    pair_split = symbol.split('/')  # symbol must be in format XXX/XXX ie. BTC/EUR\n",
        "    symbol = pair_split[0] + '-' + pair_split[1]\n",
        "    url = f'https://api.pro.coinbase.com/products/{symbol}/candles?granularity=86400'\n",
        "    response = requests.get(url)\n",
        "    if response.status_code == 200:  # check to make sure the response from server is good\n",
        "        data = pd.DataFrame(json.loads(response.text), columns=['unix', 'low', 'high', 'open', 'close', 'volume'])\n",
        "        data['date'] = pd.to_datetime(data['unix'], unit='s')  # convert to a readable date\n",
        "        data['vol_fiat'] = data['volume'] * data['close']      # multiply the BTC volume by closing price to approximate fiat volume\n",
        "\n",
        "        # if we failed to get any data, print an error...otherwise write the file\n",
        "        if data is None:\n",
        "            print(\"Did not return any data from Coinbase for this symbol\")\n",
        "        else:\n",
        "            print(\"Data downloaded.\")\n",
        "            return data\n",
        "\n",
        "    else:\n",
        "        print(\"Did not receieve OK response from Coinbase API\")\n",
        "\n",
        "data = fetch_daily_data(\"BTC/USD\")\n",
        "print(f\"{len(data)} Rows downloaded\")"
      ],
      "execution_count": 1,
      "outputs": [
        {
          "output_type": "stream",
          "name": "stdout",
          "text": [
            "Data downloaded.\n",
            "300 Rows downloaded\n"
          ]
        }
      ]
    },
    {
      "cell_type": "markdown",
      "metadata": {
        "id": "FngpvB2YhpdN"
      },
      "source": [
        "# Create trainsets and testsets"
      ]
    },
    {
      "cell_type": "markdown",
      "metadata": {
        "id": "t_Hc6SZWh6gg"
      },
      "source": [
        "We want to have a function to pick batch number from the dataset so the input will be like `close price in day n, volume in day n, close price in day n+1, volume in day n+1, ...`\n"
      ]
    },
    {
      "cell_type": "code",
      "metadata": {
        "id": "twJoe2OJihM9"
      },
      "source": [
        "from numpy import ndarray\n",
        "import numpy as np\n",
        "import random\n",
        "\n",
        "\n",
        "\n",
        "def create_batch(batch_number: int, days_in_batch: int, predict_day: int, data_set: ndarray):\n",
        "  train_x = np.zeros((batch_number, 2 * days_in_batch))\n",
        "  train_y = np.zeros(batch_number)\n",
        "  test_x = np.zeros((batch_number, 2 * days_in_batch))\n",
        "  test_y = np.zeros(batch_number)\n",
        "  d = np.zeros((batch_number, 2 * days_in_batch + predict_day))\n",
        "  for i in range(batch_number):\n",
        "    rand = random.randint(days_in_batch + predict_day, len(data_set) - 1)\n",
        "    count = 0\n",
        "    \n",
        "    while count < days_in_batch:       \n",
        "      d[i][count * 2] = data_set[\"close\"][rand]\n",
        "      d[i][(count * 2) + 1] = data_set[\"volume\"][rand]\n",
        "      count += 1\n",
        "      rand -= 1\n",
        "    for j in range(predict_day):\n",
        "      d[i][-predict_day + j] = data_set[\"close\"][rand - j]\n",
        "    \n",
        "  \n",
        "  np.random.shuffle(d)\n",
        "\n",
        "  train_size = int(0.8 * batch_number)\n",
        "  \n",
        "  train_x = d[0: train_size, 0:-predict_day]\n",
        "  train_y = d[0: train_size, -predict_day:]\n",
        "  test_x = d[train_size:, 0:-predict_day]\n",
        "  test_y = d[train_size:, -predict_day:]\n",
        "\n",
        "  train_x = np.reshape(train_x, (train_x.shape[0],train_x.shape[1],1))\n",
        "  test_x = np.reshape(test_x, (test_x.shape[0],test_x.shape[1],1))\n",
        "\n",
        "  return train_x, train_y, test_x, test_y\n",
        "\n",
        "predict_day = 7\n",
        "batch_number = 1000\n",
        "days_in_batch = 30\n",
        "\n",
        "train_x, train_y, test_x, test_y = create_batch(batch_number, days_in_batch, predict_day, data)"
      ],
      "execution_count": 2,
      "outputs": []
    },
    {
      "cell_type": "markdown",
      "metadata": {
        "id": "Xx70byQ7vbEL"
      },
      "source": [
        "# Create Model"
      ]
    },
    {
      "cell_type": "code",
      "metadata": {
        "colab": {
          "base_uri": "https://localhost:8080/"
        },
        "id": "awcTphlmvfC3",
        "outputId": "a703f1ba-5e0d-430d-d66f-58aafb27576f"
      },
      "source": [
        "from tensorflow.keras import layers\n",
        "from tensorflow import keras\n",
        "from tensorflow.keras.optimizers import SGD\n",
        "\n",
        "class TrainingStop(keras.callbacks.Callback):\n",
        "    def __init__(self, threshold):\n",
        "        super(TrainingStop, self).__init__()\n",
        "        self._threshold = threshold\n",
        "\n",
        "    def on_epoch_end(self, batch, logs={}):        \n",
        "        train_loss = logs.get('loss')\n",
        "        self.model.stop_training = train_loss <= self._threshold\n",
        "\n",
        "model = keras.Sequential()\n",
        "\n",
        "# Add a LSTM layer with 128 internal units.\n",
        "model.add(layers.GRU(128, activation=\"relu\", return_sequences=True))\n",
        "model.add(layers.GRU(128, activation=\"relu\"))\n",
        "# model.add(layers.Dropout(0.2))\n",
        "model.add(layers.Dense(predict_day, activation=\"relu\"))\n",
        "\n",
        "model.compile(optimizer=\"rmsprop\", loss=\"mae\")\n",
        "model.fit(train_x, train_y, epochs=10000, callbacks=[TrainingStop(500)])\n",
        "\n"
      ],
      "execution_count": null,
      "outputs": [
        {
          "output_type": "stream",
          "name": "stdout",
          "text": [
            "Epoch 1/10000\n",
            "25/25 [==============================] - 4s 87ms/step - loss: 36006.9375\n",
            "Epoch 2/10000\n",
            "25/25 [==============================] - 2s 85ms/step - loss: 16183.5127\n",
            "Epoch 3/10000\n",
            "25/25 [==============================] - 2s 84ms/step - loss: 12263.2773\n",
            "Epoch 4/10000\n",
            "25/25 [==============================] - 2s 83ms/step - loss: 11650.2324\n",
            "Epoch 5/10000\n",
            "25/25 [==============================] - 2s 84ms/step - loss: 11603.6250\n",
            "Epoch 6/10000\n",
            "25/25 [==============================] - 2s 84ms/step - loss: 11057.3916\n",
            "Epoch 7/10000\n",
            "25/25 [==============================] - 2s 85ms/step - loss: 11014.8320\n",
            "Epoch 8/10000\n",
            "25/25 [==============================] - 2s 84ms/step - loss: 11213.4824\n",
            "Epoch 9/10000\n",
            "25/25 [==============================] - 2s 85ms/step - loss: 10801.3203\n",
            "Epoch 10/10000\n",
            "25/25 [==============================] - 2s 84ms/step - loss: 10802.9805\n",
            "Epoch 11/10000\n",
            "25/25 [==============================] - 2s 86ms/step - loss: 10946.2197\n",
            "Epoch 12/10000\n",
            "25/25 [==============================] - 2s 85ms/step - loss: 10562.7686\n",
            "Epoch 13/10000\n",
            "25/25 [==============================] - 2s 83ms/step - loss: 10748.6875\n",
            "Epoch 14/10000\n",
            "25/25 [==============================] - 2s 85ms/step - loss: 10430.4902\n",
            "Epoch 15/10000\n",
            "25/25 [==============================] - 2s 84ms/step - loss: 10442.7666\n",
            "Epoch 16/10000\n",
            "25/25 [==============================] - 2s 85ms/step - loss: 10156.6465\n",
            "Epoch 17/10000\n",
            "25/25 [==============================] - 2s 85ms/step - loss: 10056.9512\n",
            "Epoch 18/10000\n",
            "25/25 [==============================] - 2s 84ms/step - loss: 9915.1992\n",
            "Epoch 19/10000\n",
            "25/25 [==============================] - 2s 84ms/step - loss: 9876.5410\n",
            "Epoch 20/10000\n",
            "25/25 [==============================] - 2s 85ms/step - loss: 9593.9258\n",
            "Epoch 21/10000\n",
            "25/25 [==============================] - 2s 84ms/step - loss: 9649.1797\n",
            "Epoch 22/10000\n",
            "25/25 [==============================] - 2s 84ms/step - loss: 9772.8271\n",
            "Epoch 23/10000\n",
            "25/25 [==============================] - 2s 84ms/step - loss: 9555.8496\n",
            "Epoch 24/10000\n",
            "21/25 [========================>.....] - ETA: 0s - loss: 9347.3066"
          ]
        }
      ]
    },
    {
      "cell_type": "markdown",
      "metadata": {
        "id": "RZEHExlI9RH4"
      },
      "source": [
        "# Predict"
      ]
    },
    {
      "cell_type": "code",
      "metadata": {
        "colab": {
          "base_uri": "https://localhost:8080/",
          "height": 266
        },
        "id": "S483Ugmt9UUy",
        "outputId": "77a692da-71b1-42b6-848b-f7789a68420f"
      },
      "source": [
        "import matplotlib.pyplot as plt\n",
        "\n",
        "def plot(sliced_data: ndarray):  \n",
        "  p_data = np.reshape(sliced_data, (predict_day * len(sliced_data),))\n",
        "  plt.plot(p_data)\n",
        "\n",
        "plot(test_y[0:50])\n",
        "predicted = model.predict(test_x)\n",
        "plot(predicted[0:50])\n",
        "\n",
        "\n"
      ],
      "execution_count": 4,
      "outputs": [
        {
          "output_type": "display_data",
          "data": {
            "image/png": "[encoded data removed]",
            "text/plain": [
              "<Figure size 432x288 with 1 Axes>"
            ]
          },
          "metadata": {
            "needs_background": "light"
          }
        }
      ]
    }
  ]
}