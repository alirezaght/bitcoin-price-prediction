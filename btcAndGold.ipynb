{
  "nbformat": 4,
  "nbformat_minor": 0,
  "metadata": {
    "colab": {
      "name": "train.ipynb",
      "provenance": [],
      "include_colab_link": true
    },
    "kernelspec": {
      "name": "python3",
      "display_name": "Python 3"
    },
    "language_info": {
      "name": "python"
    }
  },
  "cells": [
    {
      "cell_type": "markdown",
      "metadata": {
        "id": "view-in-github",
        "colab_type": "text"
      },
      "source": [
        "<a href=\"https://colab.research.google.com/github/alirezaght/bitcoin-price-prediction/blob/main/btcAndGold.ipynb\" target=\"_parent\"><img src=\"https://colab.research.google.com/assets/colab-badge.svg\" alt=\"Open In Colab\"/></a>"
      ]
    },
    {
      "cell_type": "markdown",
      "metadata": {
        "id": "oTizkxhGhQUO"
      },
      "source": [
        "## Download historical data"
      ]
    },
    {
      "cell_type": "markdown",
      "source": [
        "I'm downloading btc price from https://www.cryptodatadownload.com/cdd/Bitstamp_BTCUSD_d.csv\n",
        "\n",
        "and eth price from https://www.cryptodatadownload.com/cdd/Bitstamp_ETHUSD_d.csv\n",
        "\n",
        "and gold price from https://www.nasdaq.com/market-activity/commodities/gc:cmx/historical"
      ],
      "metadata": {
        "id": "f3rVWvfqxvru"
      }
    },
    {
      "cell_type": "code",
      "metadata": {
        "colab": {
          "base_uri": "https://localhost:8080/"
        },
        "id": "woma8RK6fTAu",
        "outputId": "abbbe7a8-4ab9-442c-822a-e306442036eb"
      },
      "source": [
        "!gdown 11IppFUtMJ6CSs4AAc_mAz8DpIrESY03H\n",
        "!gdown 1Vx3NGEQNssg03QXXlIjtFDjMC_8Vm9Hr\n",
        "!gdown 1Ih-kXFor9L3YSQYJPdh7XRnuqbPt34Hv"
      ],
      "execution_count": 3,
      "outputs": [
        {
          "output_type": "stream",
          "name": "stdout",
          "text": [
            "Downloading...\n",
            "From: https://drive.google.com/uc?id=11IppFUtMJ6CSs4AAc_mAz8DpIrESY03H\n",
            "To: /content/gold-price.csv\n",
            "100% 116k/116k [00:00<00:00, 78.1MB/s]\n",
            "Downloading...\n",
            "From: https://drive.google.com/uc?id=1Vx3NGEQNssg03QXXlIjtFDjMC_8Vm9Hr\n",
            "To: /content/btc-price.csv\n",
            "100% 285k/285k [00:00<00:00, 92.7MB/s]\n",
            "Downloading...\n",
            "From: https://drive.google.com/uc?id=1Ih-kXFor9L3YSQYJPdh7XRnuqbPt34Hv\n",
            "To: /content/eth-price.csv\n",
            "100% 186k/186k [00:00<00:00, 87.5MB/s]\n"
          ]
        }
      ]
    },
    {
      "cell_type": "markdown",
      "metadata": {
        "id": "FngpvB2YhpdN"
      },
      "source": [
        "# Preprocess *data*"
      ]
    },
    {
      "cell_type": "code",
      "metadata": {
        "id": "twJoe2OJihM9"
      },
      "source": [
        "from tensorflow.python.ops.ragged.row_partition import np\n",
        "from functools import reduce \n",
        "import pandas as pd\n",
        "from datetime import datetime\n",
        "\n",
        "gold_csv = pd.read_csv('gold-price.csv')\n",
        "btc_csv = pd.read_csv('btc-price.csv')\n",
        "\n",
        "\n",
        "original = []\n",
        "\n",
        "index = 1\n",
        "for i in range(0, len(gold_csv)):\n",
        "  if i >= len(btc_csv):\n",
        "    break\n",
        "  gold_time = datetime.strptime(gold_csv.iloc[i, 0], \"%m/%d/%Y\").timestamp()\n",
        "  gold_price = float(gold_csv.iloc[i, 3]) # open price  \n",
        "  while True: \n",
        "    if index >= len(btc_csv):\n",
        "      break   \n",
        "    btc_time = float(btc_csv.iloc[index].name[0])\n",
        "    if btc_time < gold_time:      \n",
        "      break   \n",
        "    btc_price = float(btc_csv.iloc[index].name[3]) # open price    \n",
        "    index += 1\n",
        "    original.append([btc_price, gold_price])\n",
        "original = np.array(original)\n"
      ],
      "execution_count": 169,
      "outputs": []
    },
    {
      "cell_type": "markdown",
      "source": [
        "# Scaling"
      ],
      "metadata": {
        "id": "gNyx0sxnAOa7"
      }
    },
    {
      "cell_type": "code",
      "source": [
        "from sklearn.preprocessing import MinMaxScaler\n",
        "scaler = MinMaxScaler()\n",
        "data = scaler.fit_transform(original)\n",
        "\n",
        "x_train = []\n",
        "y_train = []\n",
        "for i in range(90, len(data)):\n",
        "  x_train.append(np.reshape(data[i - 90: i], (1, 180)))\n",
        "  y_train.append(data[i][0])\n",
        "\n",
        "\n",
        "x_train = np.reshape(x_train, (len(x_train), 90, 2))\n",
        "y_train = np.reshape(y_train, (len(y_train)))\n"
      ],
      "metadata": {
        "id": "UyVhr_olAYPy"
      },
      "execution_count": 170,
      "outputs": []
    },
    {
      "cell_type": "markdown",
      "metadata": {
        "id": "Xx70byQ7vbEL"
      },
      "source": [
        "# Build Model and Train"
      ]
    },
    {
      "cell_type": "code",
      "metadata": {
        "colab": {
          "base_uri": "https://localhost:8080/"
        },
        "id": "awcTphlmvfC3",
        "outputId": "4fed8c0d-0a45-439d-ebed-6fe35a52ea79"
      },
      "source": [
        "from tensorflow.keras import layers\n",
        "from tensorflow import keras\n",
        "\n",
        "\n",
        "model = keras.Sequential()\n",
        "\n",
        "model.add(layers.LSTM(50, return_sequences=True, input_shape=(x_train.shape[1], 2)))\n",
        "model.add(layers.Dropout(0.2))\n",
        "\n",
        "model.add(layers.LSTM(50, return_sequences=True))\n",
        "model.add(layers.Dropout(0.2))\n",
        "\n",
        "model.add(layers.LSTM(50, return_sequences=True))\n",
        "model.add(layers.Dropout(0.2))\n",
        "\n",
        "model.add(layers.LSTM(50))\n",
        "model.add(layers.Dropout(0.2))\n",
        "\n",
        "model.add(layers.Dense(units = 1))\n",
        "\n",
        "model.compile(optimizer=\"adam\", loss=\"mse\")\n",
        "model.fit(x_train, y_train, epochs=30, batch_size=32)\n",
        "model.summary()"
      ],
      "execution_count": 171,
      "outputs": [
        {
          "output_type": "stream",
          "name": "stdout",
          "text": [
            "Epoch 1/30\n",
            "55/55 [==============================] - 23s 213ms/step - loss: 0.0185\n",
            "Epoch 2/30\n",
            "55/55 [==============================] - 12s 211ms/step - loss: 0.0046\n",
            "Epoch 3/30\n",
            "55/55 [==============================] - 13s 235ms/step - loss: 0.0043\n",
            "Epoch 4/30\n",
            "55/55 [==============================] - 11s 194ms/step - loss: 0.0039\n",
            "Epoch 5/30\n",
            "55/55 [==============================] - 11s 197ms/step - loss: 0.0040\n",
            "Epoch 6/30\n",
            "55/55 [==============================] - 11s 204ms/step - loss: 0.0041\n",
            "Epoch 7/30\n",
            "55/55 [==============================] - 13s 236ms/step - loss: 0.0043\n",
            "Epoch 8/30\n",
            "55/55 [==============================] - 12s 216ms/step - loss: 0.0033\n",
            "Epoch 9/30\n",
            "55/55 [==============================] - 11s 194ms/step - loss: 0.0032\n",
            "Epoch 10/30\n",
            "55/55 [==============================] - 11s 193ms/step - loss: 0.0036\n",
            "Epoch 11/30\n",
            "55/55 [==============================] - 11s 192ms/step - loss: 0.0027\n",
            "Epoch 12/30\n",
            "55/55 [==============================] - 11s 191ms/step - loss: 0.0027\n",
            "Epoch 13/30\n",
            "55/55 [==============================] - 11s 194ms/step - loss: 0.0027\n",
            "Epoch 14/30\n",
            "55/55 [==============================] - 11s 194ms/step - loss: 0.0029\n",
            "Epoch 15/30\n",
            "55/55 [==============================] - 11s 194ms/step - loss: 0.0026\n",
            "Epoch 16/30\n",
            "55/55 [==============================] - 11s 193ms/step - loss: 0.0029\n",
            "Epoch 17/30\n",
            "55/55 [==============================] - 12s 212ms/step - loss: 0.0025\n",
            "Epoch 18/30\n",
            "55/55 [==============================] - 11s 192ms/step - loss: 0.0022\n",
            "Epoch 19/30\n",
            "55/55 [==============================] - 11s 192ms/step - loss: 0.0022\n",
            "Epoch 20/30\n",
            "55/55 [==============================] - 11s 192ms/step - loss: 0.0024\n",
            "Epoch 21/30\n",
            "55/55 [==============================] - 11s 200ms/step - loss: 0.0021\n",
            "Epoch 22/30\n",
            "55/55 [==============================] - 11s 207ms/step - loss: 0.0021\n",
            "Epoch 23/30\n",
            "55/55 [==============================] - 12s 213ms/step - loss: 0.0021\n",
            "Epoch 24/30\n",
            "55/55 [==============================] - 11s 193ms/step - loss: 0.0020\n",
            "Epoch 25/30\n",
            "55/55 [==============================] - 11s 193ms/step - loss: 0.0019\n",
            "Epoch 26/30\n",
            "55/55 [==============================] - 11s 191ms/step - loss: 0.0020\n",
            "Epoch 27/30\n",
            "55/55 [==============================] - 11s 192ms/step - loss: 0.0020\n",
            "Epoch 28/30\n",
            "55/55 [==============================] - 11s 191ms/step - loss: 0.0019\n",
            "Epoch 29/30\n",
            "55/55 [==============================] - 11s 193ms/step - loss: 0.0021\n",
            "Epoch 30/30\n",
            "55/55 [==============================] - 11s 193ms/step - loss: 0.0019\n",
            "Model: \"sequential_6\"\n",
            "_________________________________________________________________\n",
            " Layer (type)                Output Shape              Param #   \n",
            "=================================================================\n",
            " lstm_24 (LSTM)              (None, 90, 50)            10600     \n",
            "                                                                 \n",
            " dropout_24 (Dropout)        (None, 90, 50)            0         \n",
            "                                                                 \n",
            " lstm_25 (LSTM)              (None, 90, 50)            20200     \n",
            "                                                                 \n",
            " dropout_25 (Dropout)        (None, 90, 50)            0         \n",
            "                                                                 \n",
            " lstm_26 (LSTM)              (None, 90, 50)            20200     \n",
            "                                                                 \n",
            " dropout_26 (Dropout)        (None, 90, 50)            0         \n",
            "                                                                 \n",
            " lstm_27 (LSTM)              (None, 50)                20200     \n",
            "                                                                 \n",
            " dropout_27 (Dropout)        (None, 50)                0         \n",
            "                                                                 \n",
            " dense_6 (Dense)             (None, 1)                 51        \n",
            "                                                                 \n",
            "=================================================================\n",
            "Total params: 71,251\n",
            "Trainable params: 71,251\n",
            "Non-trainable params: 0\n",
            "_________________________________________________________________\n"
          ]
        }
      ]
    },
    {
      "cell_type": "markdown",
      "metadata": {
        "id": "RZEHExlI9RH4"
      },
      "source": [
        "# Predict"
      ]
    },
    {
      "cell_type": "code",
      "metadata": {
        "colab": {
          "base_uri": "https://localhost:8080/",
          "height": 1000
        },
        "id": "S483Ugmt9UUy",
        "outputId": "e76b1861-12fe-4f03-eb2e-26b736b20b67"
      },
      "source": [
        "import matplotlib.pyplot as plt\n",
        "\n",
        "x = np.array([])\n",
        "x = np.append(x, original[len(original) - 90: len(original)])\n",
        "x = np.reshape(x, (90, 2))\n",
        "x = scaler.transform(x)\n",
        "x = np.reshape(x, (1, 90, 2))\n",
        "res_array = np.array([])\n",
        "y_array = np.array([])\n",
        "for i in range(1, 30):\n",
        "  res = scaler.inverse_transform(np.reshape(np.array([model.predict(x)[0], 0]), (1, 2)))\n",
        "  y_array = np.append(y_array, res[0][0])\n",
        "  res_array = np.append(res_array, res[0][0])\n",
        "  res_array = np.append(res_array, original[len(original) - 1][1:])    \n",
        "  x = np.array([])\n",
        "  x = np.append(x, np.append(original[len(original) - 90 + i: len(original)], res_array))\n",
        "  x = np.reshape(x, (90, 2))\n",
        "  x = scaler.transform(x)\n",
        "  x = np.reshape(x, (1, 90, 2))\n",
        "\n",
        "\n",
        "plt.plot(y_array, color='green')\n",
        "print((y_array[len(y_array) - 1] - y_array[0])/y_array[0])"
      ],
      "execution_count": 172,
      "outputs": [
        {
          "output_type": "stream",
          "name": "stdout",
          "text": [
            "1/1 [==============================] - 2s 2s/step\n",
            "1/1 [==============================] - 0s 37ms/step\n",
            "1/1 [==============================] - 0s 36ms/step\n"
          ]
        },
        {
          "output_type": "stream",
          "name": "stderr",
          "text": [
            "/usr/local/lib/python3.7/dist-packages/ipykernel_launcher.py:11: VisibleDeprecationWarning: Creating an ndarray from ragged nested sequences (which is a list-or-tuple of lists-or-tuples-or ndarrays with different lengths or shapes) is deprecated. If you meant to do this, you must specify 'dtype=object' when creating the ndarray.\n",
            "  # This is added back by InteractiveShellApp.init_path()\n",
            "/usr/local/lib/python3.7/dist-packages/ipykernel_launcher.py:11: VisibleDeprecationWarning: Creating an ndarray from ragged nested sequences (which is a list-or-tuple of lists-or-tuples-or ndarrays with different lengths or shapes) is deprecated. If you meant to do this, you must specify 'dtype=object' when creating the ndarray.\n",
            "  # This is added back by InteractiveShellApp.init_path()\n",
            "/usr/local/lib/python3.7/dist-packages/ipykernel_launcher.py:11: VisibleDeprecationWarning: Creating an ndarray from ragged nested sequences (which is a list-or-tuple of lists-or-tuples-or ndarrays with different lengths or shapes) is deprecated. If you meant to do this, you must specify 'dtype=object' when creating the ndarray.\n",
            "  # This is added back by InteractiveShellApp.init_path()\n"
          ]
        },
        {
          "output_type": "stream",
          "name": "stdout",
          "text": [
            "1/1 [==============================] - 0s 42ms/step\n",
            "1/1 [==============================] - 0s 43ms/step\n",
            "1/1 [==============================] - 0s 43ms/step\n"
          ]
        },
        {
          "output_type": "stream",
          "name": "stderr",
          "text": [
            "/usr/local/lib/python3.7/dist-packages/ipykernel_launcher.py:11: VisibleDeprecationWarning: Creating an ndarray from ragged nested sequences (which is a list-or-tuple of lists-or-tuples-or ndarrays with different lengths or shapes) is deprecated. If you meant to do this, you must specify 'dtype=object' when creating the ndarray.\n",
            "  # This is added back by InteractiveShellApp.init_path()\n",
            "/usr/local/lib/python3.7/dist-packages/ipykernel_launcher.py:11: VisibleDeprecationWarning: Creating an ndarray from ragged nested sequences (which is a list-or-tuple of lists-or-tuples-or ndarrays with different lengths or shapes) is deprecated. If you meant to do this, you must specify 'dtype=object' when creating the ndarray.\n",
            "  # This is added back by InteractiveShellApp.init_path()\n",
            "/usr/local/lib/python3.7/dist-packages/ipykernel_launcher.py:11: VisibleDeprecationWarning: Creating an ndarray from ragged nested sequences (which is a list-or-tuple of lists-or-tuples-or ndarrays with different lengths or shapes) is deprecated. If you meant to do this, you must specify 'dtype=object' when creating the ndarray.\n",
            "  # This is added back by InteractiveShellApp.init_path()\n"
          ]
        },
        {
          "output_type": "stream",
          "name": "stdout",
          "text": [
            "1/1 [==============================] - 0s 34ms/step\n",
            "1/1 [==============================] - 0s 35ms/step\n",
            "1/1 [==============================] - 0s 37ms/step\n"
          ]
        },
        {
          "output_type": "stream",
          "name": "stderr",
          "text": [
            "/usr/local/lib/python3.7/dist-packages/ipykernel_launcher.py:11: VisibleDeprecationWarning: Creating an ndarray from ragged nested sequences (which is a list-or-tuple of lists-or-tuples-or ndarrays with different lengths or shapes) is deprecated. If you meant to do this, you must specify 'dtype=object' when creating the ndarray.\n",
            "  # This is added back by InteractiveShellApp.init_path()\n",
            "/usr/local/lib/python3.7/dist-packages/ipykernel_launcher.py:11: VisibleDeprecationWarning: Creating an ndarray from ragged nested sequences (which is a list-or-tuple of lists-or-tuples-or ndarrays with different lengths or shapes) is deprecated. If you meant to do this, you must specify 'dtype=object' when creating the ndarray.\n",
            "  # This is added back by InteractiveShellApp.init_path()\n",
            "/usr/local/lib/python3.7/dist-packages/ipykernel_launcher.py:11: VisibleDeprecationWarning: Creating an ndarray from ragged nested sequences (which is a list-or-tuple of lists-or-tuples-or ndarrays with different lengths or shapes) is deprecated. If you meant to do this, you must specify 'dtype=object' when creating the ndarray.\n",
            "  # This is added back by InteractiveShellApp.init_path()\n"
          ]
        },
        {
          "output_type": "stream",
          "name": "stdout",
          "text": [
            "1/1 [==============================] - 0s 38ms/step\n",
            "1/1 [==============================] - 0s 35ms/step\n",
            "1/1 [==============================] - 0s 35ms/step\n"
          ]
        },
        {
          "output_type": "stream",
          "name": "stderr",
          "text": [
            "/usr/local/lib/python3.7/dist-packages/ipykernel_launcher.py:11: VisibleDeprecationWarning: Creating an ndarray from ragged nested sequences (which is a list-or-tuple of lists-or-tuples-or ndarrays with different lengths or shapes) is deprecated. If you meant to do this, you must specify 'dtype=object' when creating the ndarray.\n",
            "  # This is added back by InteractiveShellApp.init_path()\n",
            "/usr/local/lib/python3.7/dist-packages/ipykernel_launcher.py:11: VisibleDeprecationWarning: Creating an ndarray from ragged nested sequences (which is a list-or-tuple of lists-or-tuples-or ndarrays with different lengths or shapes) is deprecated. If you meant to do this, you must specify 'dtype=object' when creating the ndarray.\n",
            "  # This is added back by InteractiveShellApp.init_path()\n",
            "/usr/local/lib/python3.7/dist-packages/ipykernel_launcher.py:11: VisibleDeprecationWarning: Creating an ndarray from ragged nested sequences (which is a list-or-tuple of lists-or-tuples-or ndarrays with different lengths or shapes) is deprecated. If you meant to do this, you must specify 'dtype=object' when creating the ndarray.\n",
            "  # This is added back by InteractiveShellApp.init_path()\n"
          ]
        },
        {
          "output_type": "stream",
          "name": "stdout",
          "text": [
            "1/1 [==============================] - 0s 45ms/step\n",
            "1/1 [==============================] - 0s 34ms/step\n",
            "1/1 [==============================] - 0s 35ms/step\n"
          ]
        },
        {
          "output_type": "stream",
          "name": "stderr",
          "text": [
            "/usr/local/lib/python3.7/dist-packages/ipykernel_launcher.py:11: VisibleDeprecationWarning: Creating an ndarray from ragged nested sequences (which is a list-or-tuple of lists-or-tuples-or ndarrays with different lengths or shapes) is deprecated. If you meant to do this, you must specify 'dtype=object' when creating the ndarray.\n",
            "  # This is added back by InteractiveShellApp.init_path()\n",
            "/usr/local/lib/python3.7/dist-packages/ipykernel_launcher.py:11: VisibleDeprecationWarning: Creating an ndarray from ragged nested sequences (which is a list-or-tuple of lists-or-tuples-or ndarrays with different lengths or shapes) is deprecated. If you meant to do this, you must specify 'dtype=object' when creating the ndarray.\n",
            "  # This is added back by InteractiveShellApp.init_path()\n",
            "/usr/local/lib/python3.7/dist-packages/ipykernel_launcher.py:11: VisibleDeprecationWarning: Creating an ndarray from ragged nested sequences (which is a list-or-tuple of lists-or-tuples-or ndarrays with different lengths or shapes) is deprecated. If you meant to do this, you must specify 'dtype=object' when creating the ndarray.\n",
            "  # This is added back by InteractiveShellApp.init_path()\n"
          ]
        },
        {
          "output_type": "stream",
          "name": "stdout",
          "text": [
            "1/1 [==============================] - 0s 39ms/step\n",
            "1/1 [==============================] - 0s 34ms/step\n",
            "1/1 [==============================] - 0s 34ms/step\n"
          ]
        },
        {
          "output_type": "stream",
          "name": "stderr",
          "text": [
            "/usr/local/lib/python3.7/dist-packages/ipykernel_launcher.py:11: VisibleDeprecationWarning: Creating an ndarray from ragged nested sequences (which is a list-or-tuple of lists-or-tuples-or ndarrays with different lengths or shapes) is deprecated. If you meant to do this, you must specify 'dtype=object' when creating the ndarray.\n",
            "  # This is added back by InteractiveShellApp.init_path()\n",
            "/usr/local/lib/python3.7/dist-packages/ipykernel_launcher.py:11: VisibleDeprecationWarning: Creating an ndarray from ragged nested sequences (which is a list-or-tuple of lists-or-tuples-or ndarrays with different lengths or shapes) is deprecated. If you meant to do this, you must specify 'dtype=object' when creating the ndarray.\n",
            "  # This is added back by InteractiveShellApp.init_path()\n",
            "/usr/local/lib/python3.7/dist-packages/ipykernel_launcher.py:11: VisibleDeprecationWarning: Creating an ndarray from ragged nested sequences (which is a list-or-tuple of lists-or-tuples-or ndarrays with different lengths or shapes) is deprecated. If you meant to do this, you must specify 'dtype=object' when creating the ndarray.\n",
            "  # This is added back by InteractiveShellApp.init_path()\n"
          ]
        },
        {
          "output_type": "stream",
          "name": "stdout",
          "text": [
            "1/1 [==============================] - 0s 36ms/step\n",
            "1/1 [==============================] - 0s 46ms/step\n",
            "1/1 [==============================] - 0s 37ms/step\n"
          ]
        },
        {
          "output_type": "stream",
          "name": "stderr",
          "text": [
            "/usr/local/lib/python3.7/dist-packages/ipykernel_launcher.py:11: VisibleDeprecationWarning: Creating an ndarray from ragged nested sequences (which is a list-or-tuple of lists-or-tuples-or ndarrays with different lengths or shapes) is deprecated. If you meant to do this, you must specify 'dtype=object' when creating the ndarray.\n",
            "  # This is added back by InteractiveShellApp.init_path()\n",
            "/usr/local/lib/python3.7/dist-packages/ipykernel_launcher.py:11: VisibleDeprecationWarning: Creating an ndarray from ragged nested sequences (which is a list-or-tuple of lists-or-tuples-or ndarrays with different lengths or shapes) is deprecated. If you meant to do this, you must specify 'dtype=object' when creating the ndarray.\n",
            "  # This is added back by InteractiveShellApp.init_path()\n"
          ]
        },
        {
          "output_type": "stream",
          "name": "stdout",
          "text": [
            "1/1 [==============================] - 0s 43ms/step\n",
            "1/1 [==============================] - 0s 41ms/step\n"
          ]
        },
        {
          "output_type": "stream",
          "name": "stderr",
          "text": [
            "/usr/local/lib/python3.7/dist-packages/ipykernel_launcher.py:11: VisibleDeprecationWarning: Creating an ndarray from ragged nested sequences (which is a list-or-tuple of lists-or-tuples-or ndarrays with different lengths or shapes) is deprecated. If you meant to do this, you must specify 'dtype=object' when creating the ndarray.\n",
            "  # This is added back by InteractiveShellApp.init_path()\n",
            "/usr/local/lib/python3.7/dist-packages/ipykernel_launcher.py:11: VisibleDeprecationWarning: Creating an ndarray from ragged nested sequences (which is a list-or-tuple of lists-or-tuples-or ndarrays with different lengths or shapes) is deprecated. If you meant to do this, you must specify 'dtype=object' when creating the ndarray.\n",
            "  # This is added back by InteractiveShellApp.init_path()\n",
            "/usr/local/lib/python3.7/dist-packages/ipykernel_launcher.py:11: VisibleDeprecationWarning: Creating an ndarray from ragged nested sequences (which is a list-or-tuple of lists-or-tuples-or ndarrays with different lengths or shapes) is deprecated. If you meant to do this, you must specify 'dtype=object' when creating the ndarray.\n",
            "  # This is added back by InteractiveShellApp.init_path()\n"
          ]
        },
        {
          "output_type": "stream",
          "name": "stdout",
          "text": [
            "1/1 [==============================] - 0s 39ms/step\n",
            "1/1 [==============================] - 0s 37ms/step\n",
            "1/1 [==============================] - 0s 38ms/step\n"
          ]
        },
        {
          "output_type": "stream",
          "name": "stderr",
          "text": [
            "/usr/local/lib/python3.7/dist-packages/ipykernel_launcher.py:11: VisibleDeprecationWarning: Creating an ndarray from ragged nested sequences (which is a list-or-tuple of lists-or-tuples-or ndarrays with different lengths or shapes) is deprecated. If you meant to do this, you must specify 'dtype=object' when creating the ndarray.\n",
            "  # This is added back by InteractiveShellApp.init_path()\n",
            "/usr/local/lib/python3.7/dist-packages/ipykernel_launcher.py:11: VisibleDeprecationWarning: Creating an ndarray from ragged nested sequences (which is a list-or-tuple of lists-or-tuples-or ndarrays with different lengths or shapes) is deprecated. If you meant to do this, you must specify 'dtype=object' when creating the ndarray.\n",
            "  # This is added back by InteractiveShellApp.init_path()\n",
            "/usr/local/lib/python3.7/dist-packages/ipykernel_launcher.py:11: VisibleDeprecationWarning: Creating an ndarray from ragged nested sequences (which is a list-or-tuple of lists-or-tuples-or ndarrays with different lengths or shapes) is deprecated. If you meant to do this, you must specify 'dtype=object' when creating the ndarray.\n",
            "  # This is added back by InteractiveShellApp.init_path()\n"
          ]
        },
        {
          "output_type": "stream",
          "name": "stdout",
          "text": [
            "1/1 [==============================] - 0s 39ms/step\n",
            "1/1 [==============================] - 0s 35ms/step\n",
            "1/1 [==============================] - 0s 35ms/step\n"
          ]
        },
        {
          "output_type": "stream",
          "name": "stderr",
          "text": [
            "/usr/local/lib/python3.7/dist-packages/ipykernel_launcher.py:11: VisibleDeprecationWarning: Creating an ndarray from ragged nested sequences (which is a list-or-tuple of lists-or-tuples-or ndarrays with different lengths or shapes) is deprecated. If you meant to do this, you must specify 'dtype=object' when creating the ndarray.\n",
            "  # This is added back by InteractiveShellApp.init_path()\n",
            "/usr/local/lib/python3.7/dist-packages/ipykernel_launcher.py:11: VisibleDeprecationWarning: Creating an ndarray from ragged nested sequences (which is a list-or-tuple of lists-or-tuples-or ndarrays with different lengths or shapes) is deprecated. If you meant to do this, you must specify 'dtype=object' when creating the ndarray.\n",
            "  # This is added back by InteractiveShellApp.init_path()\n",
            "/usr/local/lib/python3.7/dist-packages/ipykernel_launcher.py:11: VisibleDeprecationWarning: Creating an ndarray from ragged nested sequences (which is a list-or-tuple of lists-or-tuples-or ndarrays with different lengths or shapes) is deprecated. If you meant to do this, you must specify 'dtype=object' when creating the ndarray.\n",
            "  # This is added back by InteractiveShellApp.init_path()\n"
          ]
        },
        {
          "output_type": "stream",
          "name": "stdout",
          "text": [
            "-0.5760292738086303\n"
          ]
        },
        {
          "output_type": "display_data",
          "data": {
            "text/plain": [
              "<Figure size 432x288 with 1 Axes>"
            ],
            "image/png": "[encoded data removed]"
          },
          "metadata": {
            "needs_background": "light"
          }
        }
      ]
    },
    {
      "cell_type": "code",
      "source": [],
      "metadata": {
        "id": "8A1VXLp5NRRq"
      },
      "execution_count": null,
      "outputs": []
    }
  ]
}