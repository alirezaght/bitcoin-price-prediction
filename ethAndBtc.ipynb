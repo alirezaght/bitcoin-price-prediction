{
  "nbformat": 4,
  "nbformat_minor": 0,
  "metadata": {
    "colab": {
      "provenance": [],
      "include_colab_link": true
    },
    "kernelspec": {
      "name": "python3",
      "display_name": "Python 3"
    },
    "language_info": {
      "name": "python"
    }
  },
  "cells": [
    {
      "cell_type": "markdown",
      "metadata": {
        "id": "view-in-github",
        "colab_type": "text"
      },
      "source": [
        "<a href=\"https://colab.research.google.com/github/alirezaght/bitcoin-price-prediction/blob/main/ethAndBtc.ipynb\" target=\"_parent\"><img src=\"https://colab.research.google.com/assets/colab-badge.svg\" alt=\"Open In Colab\"/></a>"
      ]
    },
    {
      "cell_type": "markdown",
      "metadata": {
        "id": "oTizkxhGhQUO"
      },
      "source": [
        "## Download historical data"
      ]
    },
    {
      "cell_type": "markdown",
      "source": [
        "I'm downloading btc price from https://www.cryptodatadownload.com/cdd/Bitstamp_BTCUSD_d.csv\n",
        "\n",
        "and eth price from https://www.cryptodatadownload.com/cdd/Bitstamp_ETHUSD_d.csv\n",
        "\n",
        "and gold price from https://www.nasdaq.com/market-activity/commodities/gc:cmx/historical"
      ],
      "metadata": {
        "id": "f3rVWvfqxvru"
      }
    },
    {
      "cell_type": "code",
      "metadata": {
        "colab": {
          "base_uri": "https://localhost:8080/"
        },
        "id": "woma8RK6fTAu",
        "outputId": "992fa3c6-f899-4096-ef73-335605303557"
      },
      "source": [
        "!gdown 1Vx3NGEQNssg03QXXlIjtFDjMC_8Vm9Hr\n",
        "!gdown 1Ih-kXFor9L3YSQYJPdh7XRnuqbPt34Hv"
      ],
      "execution_count": 2,
      "outputs": [
        {
          "output_type": "stream",
          "name": "stdout",
          "text": [
            "Downloading...\n",
            "From: https://drive.google.com/uc?id=1Vx3NGEQNssg03QXXlIjtFDjMC_8Vm9Hr\n",
            "To: /content/btc-price.csv\n",
            "100% 285k/285k [00:00<00:00, 75.2MB/s]\n",
            "Downloading...\n",
            "From: https://drive.google.com/uc?id=1Ih-kXFor9L3YSQYJPdh7XRnuqbPt34Hv\n",
            "To: /content/eth-price.csv\n",
            "100% 186k/186k [00:00<00:00, 77.1MB/s]\n"
          ]
        }
      ]
    },
    {
      "cell_type": "markdown",
      "metadata": {
        "id": "FngpvB2YhpdN"
      },
      "source": [
        "# Preprocess *data*"
      ]
    },
    {
      "cell_type": "code",
      "metadata": {
        "id": "twJoe2OJihM9",
        "colab": {
          "base_uri": "https://localhost:8080/"
        },
        "outputId": "0242d02b-dba8-4a55-b6ca-7cfa371647fb"
      },
      "source": [
        "from tensorflow.python.ops.ragged.row_partition import np\n",
        "from functools import reduce \n",
        "import pandas as pd\n",
        "from datetime import datetime\n",
        "\n",
        "btc_csv = pd.read_csv('btc-price.csv')\n",
        "eth_csv = pd.read_csv('eth-price.csv')\n",
        "\n",
        "if len(btc_csv) != len(eth_csv):\n",
        "  print(\"WARNING. Length are different!\")\n",
        "\n",
        "\n",
        "\n",
        "original = []\n",
        "\n",
        "for i in range(1, min(len(btc_csv), len(eth_csv))):\n",
        "  if i >= len(btc_csv) or i >= len(eth_csv):\n",
        "    break  \n",
        "  \n",
        "  btc_price = float(btc_csv.iloc[i].name[3]) # open price    \n",
        "  eth_price = float(eth_csv.iloc[i].name[3]) # open price  \n",
        "  original.append([btc_price, eth_price])\n",
        "\n",
        "original = np.array(original)\n"
      ],
      "execution_count": 23,
      "outputs": [
        {
          "output_type": "stream",
          "name": "stdout",
          "text": [
            "WARNING. Length are different!\n"
          ]
        }
      ]
    },
    {
      "cell_type": "markdown",
      "source": [
        "# Scaling"
      ],
      "metadata": {
        "id": "gNyx0sxnAOa7"
      }
    },
    {
      "cell_type": "code",
      "source": [
        "from sklearn.preprocessing import MinMaxScaler\n",
        "scaler = MinMaxScaler()\n",
        "data = scaler.fit_transform(original)\n",
        "\n",
        "x_train = []\n",
        "y_train = []\n",
        "for i in range(90, len(data)):\n",
        "  x_train.append(np.reshape(data[i - 90: i], (1, 180)))\n",
        "  y_train.append([data[i][0], data[i][1]])\n",
        "\n",
        "\n",
        "x_train = np.reshape(x_train, (len(x_train), 90, 2))\n",
        "y_train = np.reshape(y_train, (len(y_train), 2))\n"
      ],
      "metadata": {
        "id": "UyVhr_olAYPy"
      },
      "execution_count": 24,
      "outputs": []
    },
    {
      "cell_type": "markdown",
      "metadata": {
        "id": "Xx70byQ7vbEL"
      },
      "source": [
        "# Build Model and Train"
      ]
    },
    {
      "cell_type": "code",
      "metadata": {
        "colab": {
          "base_uri": "https://localhost:8080/"
        },
        "id": "awcTphlmvfC3",
        "outputId": "893dca60-3432-4400-e60f-96b544572a83"
      },
      "source": [
        "from tensorflow.keras import layers\n",
        "from tensorflow import keras\n",
        "\n",
        "\n",
        "model = keras.Sequential()\n",
        "\n",
        "model.add(layers.LSTM(50, return_sequences=True, input_shape=(x_train.shape[1], 2)))\n",
        "model.add(layers.Dropout(0.2))\n",
        "\n",
        "model.add(layers.LSTM(50, return_sequences=True))\n",
        "model.add(layers.Dropout(0.2))\n",
        "\n",
        "model.add(layers.LSTM(50, return_sequences=True))\n",
        "model.add(layers.Dropout(0.2))\n",
        "\n",
        "model.add(layers.LSTM(50))\n",
        "model.add(layers.Dropout(0.2))\n",
        "\n",
        "model.add(layers.Dense(units = 2))\n",
        "\n",
        "model.compile(optimizer=\"adam\", loss=\"mse\")\n",
        "model.fit(x_train, y_train, epochs=30, batch_size=32)\n",
        "model.summary()"
      ],
      "execution_count": 25,
      "outputs": [
        {
          "output_type": "stream",
          "name": "stdout",
          "text": [
            "Epoch 1/30\n",
            "55/55 [==============================] - 19s 199ms/step - loss: 0.0171\n",
            "Epoch 2/30\n",
            "55/55 [==============================] - 13s 238ms/step - loss: 0.0060\n",
            "Epoch 3/30\n",
            "55/55 [==============================] - 14s 249ms/step - loss: 0.0052\n",
            "Epoch 4/30\n",
            "55/55 [==============================] - 13s 232ms/step - loss: 0.0044\n",
            "Epoch 5/30\n",
            "55/55 [==============================] - 15s 283ms/step - loss: 0.0041\n",
            "Epoch 6/30\n",
            "55/55 [==============================] - 12s 216ms/step - loss: 0.0038\n",
            "Epoch 7/30\n",
            "55/55 [==============================] - 14s 256ms/step - loss: 0.0037\n",
            "Epoch 8/30\n",
            "55/55 [==============================] - 10s 190ms/step - loss: 0.0037\n",
            "Epoch 9/30\n",
            "55/55 [==============================] - 10s 190ms/step - loss: 0.0034\n",
            "Epoch 10/30\n",
            "55/55 [==============================] - 15s 265ms/step - loss: 0.0035\n",
            "Epoch 11/30\n",
            "55/55 [==============================] - 12s 218ms/step - loss: 0.0032\n",
            "Epoch 12/30\n",
            "55/55 [==============================] - 10s 190ms/step - loss: 0.0030\n",
            "Epoch 13/30\n",
            "55/55 [==============================] - 11s 191ms/step - loss: 0.0031\n",
            "Epoch 14/30\n",
            "55/55 [==============================] - 10s 189ms/step - loss: 0.0027\n",
            "Epoch 15/30\n",
            "55/55 [==============================] - 11s 206ms/step - loss: 0.0028\n",
            "Epoch 16/30\n",
            "55/55 [==============================] - 11s 191ms/step - loss: 0.0025\n",
            "Epoch 17/30\n",
            "55/55 [==============================] - 13s 234ms/step - loss: 0.0026\n",
            "Epoch 18/30\n",
            "55/55 [==============================] - 10s 190ms/step - loss: 0.0026\n",
            "Epoch 19/30\n",
            "55/55 [==============================] - 10s 190ms/step - loss: 0.0025\n",
            "Epoch 20/30\n",
            "55/55 [==============================] - 11s 197ms/step - loss: 0.0027\n",
            "Epoch 21/30\n",
            "55/55 [==============================] - 10s 190ms/step - loss: 0.0025\n",
            "Epoch 22/30\n",
            "55/55 [==============================] - 10s 191ms/step - loss: 0.0021\n",
            "Epoch 23/30\n",
            "55/55 [==============================] - 10s 189ms/step - loss: 0.0023\n",
            "Epoch 24/30\n",
            "55/55 [==============================] - 10s 189ms/step - loss: 0.0022\n",
            "Epoch 25/30\n",
            "55/55 [==============================] - 11s 206ms/step - loss: 0.0023\n",
            "Epoch 26/30\n",
            "55/55 [==============================] - 10s 189ms/step - loss: 0.0023\n",
            "Epoch 27/30\n",
            "55/55 [==============================] - 11s 191ms/step - loss: 0.0023\n",
            "Epoch 28/30\n",
            "55/55 [==============================] - 10s 189ms/step - loss: 0.0020\n",
            "Epoch 29/30\n",
            "55/55 [==============================] - 10s 190ms/step - loss: 0.0020\n",
            "Epoch 30/30\n",
            "55/55 [==============================] - 10s 189ms/step - loss: 0.0020\n",
            "Model: \"sequential_3\"\n",
            "_________________________________________________________________\n",
            " Layer (type)                Output Shape              Param #   \n",
            "=================================================================\n",
            " lstm_12 (LSTM)              (None, 90, 50)            10600     \n",
            "                                                                 \n",
            " dropout_12 (Dropout)        (None, 90, 50)            0         \n",
            "                                                                 \n",
            " lstm_13 (LSTM)              (None, 90, 50)            20200     \n",
            "                                                                 \n",
            " dropout_13 (Dropout)        (None, 90, 50)            0         \n",
            "                                                                 \n",
            " lstm_14 (LSTM)              (None, 90, 50)            20200     \n",
            "                                                                 \n",
            " dropout_14 (Dropout)        (None, 90, 50)            0         \n",
            "                                                                 \n",
            " lstm_15 (LSTM)              (None, 50)                20200     \n",
            "                                                                 \n",
            " dropout_15 (Dropout)        (None, 50)                0         \n",
            "                                                                 \n",
            " dense_3 (Dense)             (None, 2)                 102       \n",
            "                                                                 \n",
            "=================================================================\n",
            "Total params: 71,302\n",
            "Trainable params: 71,302\n",
            "Non-trainable params: 0\n",
            "_________________________________________________________________\n"
          ]
        }
      ]
    },
    {
      "cell_type": "markdown",
      "metadata": {
        "id": "RZEHExlI9RH4"
      },
      "source": [
        "# Predict"
      ]
    },
    {
      "cell_type": "code",
      "metadata": {
        "colab": {
          "base_uri": "https://localhost:8080/",
          "height": 792
        },
        "id": "S483Ugmt9UUy",
        "outputId": "16dbdc3a-3bf9-4f99-fd1e-7a2af6814bb8"
      },
      "source": [
        "import matplotlib.pyplot as plt\n",
        "\n",
        "x = np.array([])\n",
        "x = np.append(x, original[len(original) - 90: len(original)])\n",
        "x = np.reshape(x, (90, 2))\n",
        "x = scaler.transform(x)\n",
        "x = np.reshape(x, (1, 90, 2))\n",
        "res_array = np.array([])\n",
        "btc_array = np.array([])\n",
        "eth_array = np.array([])\n",
        "for i in range(1, 30):\n",
        "  res = scaler.inverse_transform(model.predict(x))  \n",
        "  btc_array = np.append(btc_array, res[0][0])\n",
        "  eth_array = np.append(eth_array, res[0][1])\n",
        "  res_array = np.append(res_array, res)  \n",
        "  x = np.array([])\n",
        "  x = np.append(x, np.append(original[len(original) - 90 + i: len(original)], res_array))\n",
        "  x = np.reshape(x, (90, 2))\n",
        "  x = scaler.transform(x)\n",
        "  x = np.reshape(x, (1, 90, 2))\n",
        "\n",
        "\n",
        "plt.plot(eth_array, color='green')\n",
        "plt.plot(btc_array, color='red')\n",
        "print((btc_array[len(btc_array) - 1] - btc_array[0])/btc_array[0])\n",
        "print((eth_array[len(eth_array) - 1] - eth_array[0])/eth_array[0])"
      ],
      "execution_count": 42,
      "outputs": [
        {
          "output_type": "stream",
          "name": "stdout",
          "text": [
            "1/1 [==============================] - 0s 133ms/step\n",
            "1/1 [==============================] - 0s 148ms/step\n",
            "1/1 [==============================] - 0s 139ms/step\n",
            "1/1 [==============================] - 0s 141ms/step\n",
            "1/1 [==============================] - 0s 57ms/step\n",
            "1/1 [==============================] - 0s 104ms/step\n",
            "1/1 [==============================] - 0s 116ms/step\n",
            "1/1 [==============================] - 0s 122ms/step\n",
            "1/1 [==============================] - 0s 77ms/step\n",
            "1/1 [==============================] - 0s 74ms/step\n",
            "1/1 [==============================] - 0s 77ms/step\n",
            "1/1 [==============================] - 0s 76ms/step\n",
            "1/1 [==============================] - 0s 81ms/step\n",
            "1/1 [==============================] - 0s 81ms/step\n",
            "1/1 [==============================] - 0s 95ms/step\n",
            "1/1 [==============================] - 0s 56ms/step\n",
            "1/1 [==============================] - 0s 37ms/step\n",
            "1/1 [==============================] - 0s 38ms/step\n",
            "1/1 [==============================] - 0s 35ms/step\n",
            "1/1 [==============================] - 0s 36ms/step\n",
            "1/1 [==============================] - 0s 34ms/step\n",
            "1/1 [==============================] - 0s 33ms/step\n",
            "1/1 [==============================] - 0s 35ms/step\n",
            "1/1 [==============================] - 0s 33ms/step\n",
            "1/1 [==============================] - 0s 36ms/step\n",
            "1/1 [==============================] - 0s 40ms/step\n",
            "1/1 [==============================] - 0s 42ms/step\n",
            "1/1 [==============================] - 0s 35ms/step\n",
            "1/1 [==============================] - 0s 37ms/step\n",
            "0.40952224873027154\n",
            "0.7662580543032778\n"
          ]
        },
        {
          "output_type": "display_data",
          "data": {
            "text/plain": [
              "<Figure size 432x288 with 1 Axes>"
            ],
            "image/png": "[encoded data removed]"
          },
          "metadata": {
            "needs_background": "light"
          }
        }
      ]
    },
    {
      "cell_type": "code",
      "source": [],
      "metadata": {
        "id": "8A1VXLp5NRRq"
      },
      "execution_count": null,
      "outputs": []
    }
  ]
}